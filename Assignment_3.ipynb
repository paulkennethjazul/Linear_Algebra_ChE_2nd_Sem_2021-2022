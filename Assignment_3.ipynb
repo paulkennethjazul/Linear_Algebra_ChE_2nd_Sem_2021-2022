{
  "nbformat": 4,
  "nbformat_minor": 0,
  "metadata": {
    "colab": {
      "name": "Assignment 3",
      "provenance": [],
      "collapsed_sections": [
        "mfhTEAZzTt9M",
        "RrowR6mqT277",
        "dxhOPuiiWAm8",
        "etDWdU4maafx",
        "hAUk4sBNbRDA",
        "jYbX61T6basx",
        "TKNyydpGb4yo",
        "PgAQRF-wb6_x"
      ],
      "authorship_tag": "ABX9TyP+sYjCsOoVcG6Kb4A02ISK",
      "include_colab_link": true
    },
    "kernelspec": {
      "name": "python3",
      "display_name": "Python 3"
    },
    "language_info": {
      "name": "python"
    }
  },
  "cells": [
    {
      "cell_type": "markdown",
      "metadata": {
        "id": "view-in-github",
        "colab_type": "text"
      },
      "source": [
        "<a href=\"https://colab.research.google.com/github/paulkennethjazul/Linear_Algebra_ChE_2nd_Sem_2021-2022/blob/main/Assignment_3.ipynb\" target=\"_parent\"><img src=\"https://colab.research.google.com/assets/colab-badge.svg\" alt=\"Open In Colab\"/></a>"
      ]
    },
    {
      "cell_type": "markdown",
      "source": [
        "# Linear Algebra for ChE\n",
        "## Laboratory 3 : Matrix Operations"
      ],
      "metadata": {
        "id": "sQRYiT_wThxV"
      }
    },
    {
      "cell_type": "markdown",
      "source": [
        "Now that you have a fundamental knowledge about representing and operating with vectors as well as the fundamentals of matrices, we'll try to the same operations with matrices and even more."
      ],
      "metadata": {
        "id": "4yUQHJZvTsIy"
      }
    },
    {
      "cell_type": "markdown",
      "source": [
        "### Objectives\n",
        "At the end of this activity you will be able to:\n",
        "1. Be familiar with the fundamental matrix operations.\n",
        "2. Apply the operations to solve intermediate equations.\n",
        "3. Apply matrix algebra in engineering solutions."
      ],
      "metadata": {
        "id": "mfhTEAZzTt9M"
      }
    },
    {
      "cell_type": "code",
      "source": [
        "import numpy as np\n",
        "import matplotlib.pyplot as plt\n",
        "%matplotlib inline"
      ],
      "metadata": {
        "id": "oSoODD8KT0xr"
      },
      "execution_count": null,
      "outputs": []
    },
    {
      "cell_type": "markdown",
      "source": [
        "## Transposition"
      ],
      "metadata": {
        "id": "RrowR6mqT277"
      }
    },
    {
      "cell_type": "markdown",
      "source": [
        "One of the fundamental operations in matrix algebra is Transposition. The transpose of a matrix is done by flipping the values of its elements over its diagonals. With this, the rows and columns from the original matrix will be switched. So for a matrix $A$ its transpose is denoted as $A^T$. So for example:"
      ],
      "metadata": {
        "id": "wn6M29ztT6hU"
      }
    },
    {
      "cell_type": "markdown",
      "source": [
        "$$A = \\begin{bmatrix} 4 & 5 & 7\\\\9 & -5 &10 \\\\ 11 & -12 & 13\\end{bmatrix} $$"
      ],
      "metadata": {
        "id": "r6Fv3tUZT93s"
      }
    },
    {
      "cell_type": "markdown",
      "source": [
        "$$ A^T = \\begin{bmatrix} 4 & 9 & 11\\\\5 & -5 &-12 \\\\ 7 & 10 & 13\\end{bmatrix}$$"
      ],
      "metadata": {
        "id": "T2ZNooKqUMhC"
      }
    },
    {
      "cell_type": "markdown",
      "source": [
        "This can now be achieved programmatically by using `np.transpose()` or using the `T` method."
      ],
      "metadata": {
        "id": "9cZXycUDUh2c"
      }
    },
    {
      "cell_type": "code",
      "source": [
        "L = np.array([\n",
        "    [4 ,5, 7],\n",
        "    [9, -5, 10],\n",
        "    [11, -12, 13]\n",
        "])\n",
        "L"
      ],
      "metadata": {
        "colab": {
          "base_uri": "https://localhost:8080/"
        },
        "id": "tk4_wv8BT33z",
        "outputId": "4dd24947-95c4-4ac7-a51f-6f2442da8053"
      },
      "execution_count": null,
      "outputs": [
        {
          "output_type": "execute_result",
          "data": {
            "text/plain": [
              "array([[  4,   5,   7],\n",
              "       [  9,  -5,  10],\n",
              "       [ 11, -12,  13]])"
            ]
          },
          "metadata": {},
          "execution_count": 3
        }
      ]
    },
    {
      "cell_type": "code",
      "source": [
        "LT1 = np.transpose(L)\n",
        "LT1"
      ],
      "metadata": {
        "colab": {
          "base_uri": "https://localhost:8080/"
        },
        "id": "JIiZ7TrQU8o8",
        "outputId": "3e2f3fa7-418c-49cc-997f-827cccb297d9"
      },
      "execution_count": null,
      "outputs": [
        {
          "output_type": "execute_result",
          "data": {
            "text/plain": [
              "array([[  4,   9,  11],\n",
              "       [  5,  -5, -12],\n",
              "       [  7,  10,  13]])"
            ]
          },
          "metadata": {},
          "execution_count": 4
        }
      ]
    },
    {
      "cell_type": "code",
      "source": [
        "LT2 = L.T\n",
        "LT2"
      ],
      "metadata": {
        "colab": {
          "base_uri": "https://localhost:8080/"
        },
        "id": "6XGfnenjVHMl",
        "outputId": "09352950-8e72-4ce3-b050-e9744a1057d2"
      },
      "execution_count": null,
      "outputs": [
        {
          "output_type": "execute_result",
          "data": {
            "text/plain": [
              "array([[  4,   9,  11],\n",
              "       [  5,  -5, -12],\n",
              "       [  7,  10,  13]])"
            ]
          },
          "metadata": {},
          "execution_count": 5
        }
      ]
    },
    {
      "cell_type": "code",
      "source": [
        "np.array_equiv(LT1, LT2)"
      ],
      "metadata": {
        "colab": {
          "base_uri": "https://localhost:8080/"
        },
        "id": "bImluXt7VOLj",
        "outputId": "9f60c602-4ef4-41c2-bdc7-432c6b22501c"
      },
      "execution_count": null,
      "outputs": [
        {
          "output_type": "execute_result",
          "data": {
            "text/plain": [
              "True"
            ]
          },
          "metadata": {},
          "execution_count": 6
        }
      ]
    },
    {
      "cell_type": "code",
      "source": [
        "C = np.array([\n",
        "    [3,4,5,6],\n",
        "    [2,1,3,4],\n",
        "])\n",
        "C.shape"
      ],
      "metadata": {
        "colab": {
          "base_uri": "https://localhost:8080/"
        },
        "id": "bbAoiIM8VasL",
        "outputId": "5bdc029e-1f7a-45fc-c1e4-016e6efc08f0"
      },
      "execution_count": null,
      "outputs": [
        {
          "output_type": "execute_result",
          "data": {
            "text/plain": [
              "(2, 4)"
            ]
          },
          "metadata": {},
          "execution_count": 7
        }
      ]
    },
    {
      "cell_type": "code",
      "source": [
        "np.transpose(C).shape"
      ],
      "metadata": {
        "colab": {
          "base_uri": "https://localhost:8080/"
        },
        "id": "ZaxsayxwVkFD",
        "outputId": "025a3456-a24e-41b3-fbf5-57061d40acd8"
      },
      "execution_count": null,
      "outputs": [
        {
          "output_type": "execute_result",
          "data": {
            "text/plain": [
              "(4, 2)"
            ]
          },
          "metadata": {},
          "execution_count": 8
        }
      ]
    },
    {
      "cell_type": "code",
      "source": [
        "C.T.shape"
      ],
      "metadata": {
        "colab": {
          "base_uri": "https://localhost:8080/"
        },
        "id": "sQRM_y_xVnc7",
        "outputId": "71accd1b-4122-4bb7-9d5e-d9bdab9958c6"
      },
      "execution_count": null,
      "outputs": [
        {
          "output_type": "execute_result",
          "data": {
            "text/plain": [
              "(4, 2)"
            ]
          },
          "metadata": {},
          "execution_count": 9
        }
      ]
    },
    {
      "cell_type": "markdown",
      "source": [
        "#### Try to create your own matrix (you can try non-squares) to test transposition."
      ],
      "metadata": {
        "id": "IGPZE30IVrA0"
      }
    },
    {
      "cell_type": "code",
      "source": [
        "X=np.array([\n",
        "    [4,5,9],\n",
        "    [6,7,8]        \n",
        "])\n",
        "X.shape"
      ],
      "metadata": {
        "colab": {
          "base_uri": "https://localhost:8080/"
        },
        "id": "G8iFn1zXVtrL",
        "outputId": "5431bfcc-5587-4426-af07-30989e77002b"
      },
      "execution_count": null,
      "outputs": [
        {
          "output_type": "execute_result",
          "data": {
            "text/plain": [
              "(2, 3)"
            ]
          },
          "metadata": {},
          "execution_count": 10
        }
      ]
    },
    {
      "cell_type": "code",
      "source": [
        "np.transpose(X).shape"
      ],
      "metadata": {
        "colab": {
          "base_uri": "https://localhost:8080/"
        },
        "id": "dcSSFdM1V16r",
        "outputId": "735ab229-592c-4df9-bf6a-29016834c4bc"
      },
      "execution_count": null,
      "outputs": [
        {
          "output_type": "execute_result",
          "data": {
            "text/plain": [
              "(3, 2)"
            ]
          },
          "metadata": {},
          "execution_count": 11
        }
      ]
    },
    {
      "cell_type": "code",
      "source": [
        "X.T.shape"
      ],
      "metadata": {
        "colab": {
          "base_uri": "https://localhost:8080/"
        },
        "id": "oKsDWEntV4sy",
        "outputId": "acddc1ad-d4ea-49bb-83ea-4357f0a978ed"
      },
      "execution_count": null,
      "outputs": [
        {
          "output_type": "execute_result",
          "data": {
            "text/plain": [
              "(3, 2)"
            ]
          },
          "metadata": {},
          "execution_count": 12
        }
      ]
    },
    {
      "cell_type": "code",
      "source": [
        "XT = X.T\n",
        "XT"
      ],
      "metadata": {
        "colab": {
          "base_uri": "https://localhost:8080/"
        },
        "id": "0a9YqEeIV7Tj",
        "outputId": "9f941a95-6f52-48c9-9caf-9de7fa98407e"
      },
      "execution_count": null,
      "outputs": [
        {
          "output_type": "execute_result",
          "data": {
            "text/plain": [
              "array([[4, 6],\n",
              "       [5, 7],\n",
              "       [9, 8]])"
            ]
          },
          "metadata": {},
          "execution_count": 13
        }
      ]
    },
    {
      "cell_type": "markdown",
      "source": [
        "## Dot Product / Inner Product"
      ],
      "metadata": {
        "id": "dxhOPuiiWAm8"
      }
    },
    {
      "cell_type": "markdown",
      "source": [
        "If you recall the dot product from laboratory activity before, we will try to implement the same operation with matrices. In matrix dot product we are going to get the sum of products of the vectors by row-column pairs. So if we have two matrices $X$ and $Y$:\n",
        "\n",
        "$$X = \\begin{bmatrix}x_{(0,0)}&x_{(0,1)}\\\\ x_{(1,0)}&x_{(1,1)}\\end{bmatrix}, Y = \\begin{bmatrix}y_{(0,0)}&y_{(0,1)}\\\\ y_{(1,0)}&y_{(1,1)}\\end{bmatrix}$$\n",
        "\n",
        "The dot product will then be computed as:\n",
        "$$X \\cdot Y= \\begin{bmatrix} x_{(0,0)}*y_{(0,0)} + x_{(0,1)}*y_{(1,0)} & x_{(0,0)}*y_{(0,1)} + x_{(0,1)}*y_{(1,1)} \\\\  x_{(1,0)}*y_{(0,0)} + x_{(1,1)}*y_{(1,0)} & x_{(1,0)}*y_{(0,1)} + x_{(1,1)}*y_{(1,1)}\n",
        "\\end{bmatrix}$$\n",
        "\n",
        "So if we assign values to $X$ and $Y$:\n",
        "$$Q = \\begin{bmatrix}5&7\\\\ 8&9\\end{bmatrix}, P = \\begin{bmatrix}-4&5\\\\ 7&9\\end{bmatrix}$$"
      ],
      "metadata": {
        "id": "HSAMB8HuWD9q"
      }
    },
    {
      "cell_type": "markdown",
      "source": [
        "$$Q \\cdot P= \\begin{bmatrix} 5*-4 + 7*7 & 5*5 + 7*9 \\\\  8*-4 + 8*7 & 8*5 + 9*9 \\end{bmatrix} = \\begin{bmatrix} 29 & 88 \\\\24 & 121 \\end{bmatrix}$$\n",
        "This could be achieved programmatically using `np.dot()`, `np.matmul()` or the `@` operator."
      ],
      "metadata": {
        "id": "VcxXEj1HWNJj"
      }
    },
    {
      "cell_type": "code",
      "source": [
        "Q = np.array([\n",
        "    [5,7],\n",
        "    [8,9]\n",
        "])\n",
        "P = np.array([\n",
        "    [-4,5],\n",
        "    [7,9]\n",
        "])"
      ],
      "metadata": {
        "id": "iCIP0inIXk6f"
      },
      "execution_count": null,
      "outputs": []
    },
    {
      "cell_type": "code",
      "source": [
        "np.array_equiv(Q, P)"
      ],
      "metadata": {
        "colab": {
          "base_uri": "https://localhost:8080/"
        },
        "id": "JBOZ_yIiXrZS",
        "outputId": "c3dc2c84-598f-4e37-8b28-14e439054e52"
      },
      "execution_count": null,
      "outputs": [
        {
          "output_type": "execute_result",
          "data": {
            "text/plain": [
              "False"
            ]
          },
          "metadata": {},
          "execution_count": 15
        }
      ]
    },
    {
      "cell_type": "code",
      "source": [
        "np.dot(Q,P)"
      ],
      "metadata": {
        "colab": {
          "base_uri": "https://localhost:8080/"
        },
        "id": "gEqPy-zJX0vS",
        "outputId": "e493b70d-158d-4110-8604-ccc66e066435"
      },
      "execution_count": null,
      "outputs": [
        {
          "output_type": "execute_result",
          "data": {
            "text/plain": [
              "array([[ 29,  88],\n",
              "       [ 31, 121]])"
            ]
          },
          "metadata": {},
          "execution_count": 16
        }
      ]
    },
    {
      "cell_type": "code",
      "source": [
        "Q.dot(P)"
      ],
      "metadata": {
        "colab": {
          "base_uri": "https://localhost:8080/"
        },
        "id": "NaJMrRrSYNRW",
        "outputId": "3015a9f6-3121-41d0-ef70-7dc112834d62"
      },
      "execution_count": null,
      "outputs": [
        {
          "output_type": "execute_result",
          "data": {
            "text/plain": [
              "array([[ 29,  88],\n",
              "       [ 31, 121]])"
            ]
          },
          "metadata": {},
          "execution_count": 17
        }
      ]
    },
    {
      "cell_type": "code",
      "source": [
        "Q @ P"
      ],
      "metadata": {
        "colab": {
          "base_uri": "https://localhost:8080/"
        },
        "id": "ys6CHEyqYhbb",
        "outputId": "2df6f4ea-5e16-4c6b-ab0f-3356aed67c40"
      },
      "execution_count": null,
      "outputs": [
        {
          "output_type": "execute_result",
          "data": {
            "text/plain": [
              "array([[ 29,  88],\n",
              "       [ 31, 121]])"
            ]
          },
          "metadata": {},
          "execution_count": 18
        }
      ]
    },
    {
      "cell_type": "code",
      "source": [
        "np.matmul(Q,P)"
      ],
      "metadata": {
        "colab": {
          "base_uri": "https://localhost:8080/"
        },
        "id": "IJdES7boZFpq",
        "outputId": "d41d4c57-e308-4993-ee33-fddfe563b119"
      },
      "execution_count": null,
      "outputs": [
        {
          "output_type": "execute_result",
          "data": {
            "text/plain": [
              "array([[ 29,  88],\n",
              "       [ 31, 121]])"
            ]
          },
          "metadata": {},
          "execution_count": 19
        }
      ]
    },
    {
      "cell_type": "code",
      "source": [
        "R = np.array([\n",
        "    [4,3,4],\n",
        "    [5,2,5],\n",
        "    [6,4,6]\n",
        "])\n",
        "F = np.array([\n",
        "    [-3,1,6],\n",
        "    [3,5,7],\n",
        "    [8,5,4]\n",
        "])\n",
        "R"
      ],
      "metadata": {
        "colab": {
          "base_uri": "https://localhost:8080/"
        },
        "id": "31euloYhZH8T",
        "outputId": "c5f2d0d2-5287-43e8-e12d-ce1c9b26365f"
      },
      "execution_count": null,
      "outputs": [
        {
          "output_type": "execute_result",
          "data": {
            "text/plain": [
              "array([[4, 3, 4],\n",
              "       [5, 2, 5],\n",
              "       [6, 4, 6]])"
            ]
          },
          "metadata": {},
          "execution_count": 20
        }
      ]
    },
    {
      "cell_type": "code",
      "source": [
        "R @ F"
      ],
      "metadata": {
        "colab": {
          "base_uri": "https://localhost:8080/"
        },
        "id": "2AJhv9aSZoU3",
        "outputId": "1849ecb7-592b-4a9d-b8ee-8c697e966777"
      },
      "execution_count": null,
      "outputs": [
        {
          "output_type": "execute_result",
          "data": {
            "text/plain": [
              "array([[29, 39, 61],\n",
              "       [31, 40, 64],\n",
              "       [42, 56, 88]])"
            ]
          },
          "metadata": {},
          "execution_count": 21
        }
      ]
    },
    {
      "cell_type": "code",
      "source": [
        "R.dot(F)"
      ],
      "metadata": {
        "colab": {
          "base_uri": "https://localhost:8080/"
        },
        "id": "roFgpGFGZt2y",
        "outputId": "150645aa-f4df-49c2-a28a-853689a779be"
      },
      "execution_count": null,
      "outputs": [
        {
          "output_type": "execute_result",
          "data": {
            "text/plain": [
              "array([[29, 39, 61],\n",
              "       [31, 40, 64],\n",
              "       [42, 56, 88]])"
            ]
          },
          "metadata": {},
          "execution_count": 22
        }
      ]
    },
    {
      "cell_type": "code",
      "source": [
        "np.matmul(R, F)"
      ],
      "metadata": {
        "colab": {
          "base_uri": "https://localhost:8080/"
        },
        "id": "e4d25gM4ZxAa",
        "outputId": "b8afce41-66fa-4105-fd62-fca9e368d16c"
      },
      "execution_count": null,
      "outputs": [
        {
          "output_type": "execute_result",
          "data": {
            "text/plain": [
              "array([[29, 39, 61],\n",
              "       [31, 40, 64],\n",
              "       [42, 56, 88]])"
            ]
          },
          "metadata": {},
          "execution_count": 23
        }
      ]
    },
    {
      "cell_type": "code",
      "source": [
        "np.dot(R, F)"
      ],
      "metadata": {
        "colab": {
          "base_uri": "https://localhost:8080/"
        },
        "id": "-zu7rkPOZ0Sh",
        "outputId": "401af34c-0885-445b-ae13-6aa1405a7013"
      },
      "execution_count": null,
      "outputs": [
        {
          "output_type": "execute_result",
          "data": {
            "text/plain": [
              "array([[29, 39, 61],\n",
              "       [31, 40, 64],\n",
              "       [42, 56, 88]])"
            ]
          },
          "metadata": {},
          "execution_count": 24
        }
      ]
    },
    {
      "cell_type": "markdown",
      "source": [
        "In matrix dot products there are additional rules compared with vector dot products. Since vector dot products were just in one dimension there are less restrictions. Since now we are dealing with Rank 2 vectors we need to consider some rules:\n",
        "\n",
        "### Rule 1: The inner dimensions of the two matrices in question must be the same. \n",
        "\n",
        "So given a matrix $A$ with a shape of $(a,b)$ where $a$ and $b$ are any integers. If we want to do a dot product between $A$ and another matrix $B$, then matrix $B$ should have a shape of $(b,c)$ where $b$ and $c$ are any integers. So for given the following matrices:\n",
        "\n",
        "$$A = \\begin{bmatrix}3&5\\\\6&-3\\\\3&2\\end{bmatrix}, B = \\begin{bmatrix}2&3\\\\5&4\\\\-6&-3\\end{bmatrix}, C = \\begin{bmatrix}2&3&4\\\\1&2&5\\end{bmatrix}$$\n",
        "\n",
        "So in this case $A$ has a shape of $(2,2)$, $B$ has a shape of $(3,2)$ and $C$ has a shape of $(2,3)$. So the only matrix pairs that is eligible to perform dot product is matrices $A \\cdot C$, or $B \\cdot C$.  "
      ],
      "metadata": {
        "id": "SQhh8_CeZ4mq"
      }
    },
    {
      "cell_type": "code",
      "source": [
        "A = np.array([\n",
        "    [3, 5],\n",
        "    [6, -3],\n",
        "    [3, 2]\n",
        "])\n",
        "B = np.array([\n",
        "    [2,3],\n",
        "    [5,4],\n",
        "    [-6,-3]\n",
        "])\n",
        "C = np.array([\n",
        "    [2,3,4],\n",
        "    [1,2,5]\n",
        "])\n",
        "print(A.shape)\n",
        "print(B.shape)\n",
        "print(C.shape)"
      ],
      "metadata": {
        "colab": {
          "base_uri": "https://localhost:8080/"
        },
        "id": "70JofSuGaACK",
        "outputId": "dd07873e-9e51-4bb3-95c6-affb7eaa2acc"
      },
      "execution_count": null,
      "outputs": [
        {
          "output_type": "stream",
          "name": "stdout",
          "text": [
            "(3, 2)\n",
            "(3, 2)\n",
            "(2, 3)\n"
          ]
        }
      ]
    },
    {
      "cell_type": "code",
      "source": [
        "A @ C"
      ],
      "metadata": {
        "colab": {
          "base_uri": "https://localhost:8080/"
        },
        "id": "DzBxZPcMaBpc",
        "outputId": "c1f19c09-5b50-4fde-940e-bbc38a395372"
      },
      "execution_count": null,
      "outputs": [
        {
          "output_type": "execute_result",
          "data": {
            "text/plain": [
              "array([[11, 19, 37],\n",
              "       [ 9, 12,  9],\n",
              "       [ 8, 13, 22]])"
            ]
          },
          "metadata": {},
          "execution_count": 26
        }
      ]
    },
    {
      "cell_type": "code",
      "source": [
        "B @ C"
      ],
      "metadata": {
        "colab": {
          "base_uri": "https://localhost:8080/"
        },
        "id": "Oo7iZPj8aDEK",
        "outputId": "8f44cf66-82ae-46af-e524-c6245fb6870f"
      },
      "execution_count": null,
      "outputs": [
        {
          "output_type": "execute_result",
          "data": {
            "text/plain": [
              "array([[  7,  12,  23],\n",
              "       [ 14,  23,  40],\n",
              "       [-15, -24, -39]])"
            ]
          },
          "metadata": {},
          "execution_count": 27
        }
      ]
    },
    {
      "cell_type": "code",
      "source": [
        "C @ A"
      ],
      "metadata": {
        "colab": {
          "base_uri": "https://localhost:8080/"
        },
        "id": "GSjEAyL7aNQa",
        "outputId": "1a85f961-cc90-400f-ecbb-41516aab8856"
      },
      "execution_count": null,
      "outputs": [
        {
          "output_type": "execute_result",
          "data": {
            "text/plain": [
              "array([[36,  9],\n",
              "       [30,  9]])"
            ]
          },
          "metadata": {},
          "execution_count": 28
        }
      ]
    },
    {
      "cell_type": "markdown",
      "source": [
        "If you would notice the shape of the dot product changed and its shape is not the same as any of the matrices we used. The shape of a dot product is actually derived from the shapes of the matrices used. So recall matrix $A$ with a shape of $(a,b)$ and matrix $B$ with a shape of $(b,c)$, $A \\cdot B$ should have a shape $(a,c)$."
      ],
      "metadata": {
        "id": "pXaeUX8CaRti"
      }
    },
    {
      "cell_type": "code",
      "source": [
        "A @ B.T"
      ],
      "metadata": {
        "colab": {
          "base_uri": "https://localhost:8080/"
        },
        "id": "Ykc7J4F7aPAi",
        "outputId": "7a2ab680-6708-49bf-d67b-565468e8d918"
      },
      "execution_count": null,
      "outputs": [
        {
          "output_type": "execute_result",
          "data": {
            "text/plain": [
              "array([[ 21,  35, -33],\n",
              "       [  3,  18, -27],\n",
              "       [ 12,  23, -24]])"
            ]
          },
          "metadata": {},
          "execution_count": 29
        }
      ]
    },
    {
      "cell_type": "code",
      "source": [
        "X = np.array([\n",
        "    [3,2,1,5]\n",
        "])\n",
        "Y = np.array([\n",
        "    [2,3,3,-3]\n",
        "])\n",
        "print(X.shape)\n",
        "print(Y.shape)"
      ],
      "metadata": {
        "colab": {
          "base_uri": "https://localhost:8080/"
        },
        "id": "1Ptm2itoaUDC",
        "outputId": "3380b10b-0657-414f-920e-46108ff32748"
      },
      "execution_count": null,
      "outputs": [
        {
          "output_type": "stream",
          "name": "stdout",
          "text": [
            "(1, 4)\n",
            "(1, 4)\n"
          ]
        }
      ]
    },
    {
      "cell_type": "code",
      "source": [
        "Y.T @ X"
      ],
      "metadata": {
        "colab": {
          "base_uri": "https://localhost:8080/"
        },
        "id": "dLfslIZEaVD2",
        "outputId": "601bc0f5-7311-456a-d93d-269a0a711c1a"
      },
      "execution_count": null,
      "outputs": [
        {
          "output_type": "execute_result",
          "data": {
            "text/plain": [
              "array([[  6,   4,   2,  10],\n",
              "       [  9,   6,   3,  15],\n",
              "       [  9,   6,   3,  15],\n",
              "       [ -9,  -6,  -3, -15]])"
            ]
          },
          "metadata": {},
          "execution_count": 31
        }
      ]
    },
    {
      "cell_type": "code",
      "source": [
        "X @ Y.T"
      ],
      "metadata": {
        "colab": {
          "base_uri": "https://localhost:8080/"
        },
        "id": "9hZFUAtOaXdR",
        "outputId": "f9916046-500d-4df4-83a1-b882bae943bd"
      },
      "execution_count": null,
      "outputs": [
        {
          "output_type": "execute_result",
          "data": {
            "text/plain": [
              "array([[0]])"
            ]
          },
          "metadata": {},
          "execution_count": 32
        }
      ]
    },
    {
      "cell_type": "markdown",
      "source": [
        "And youcan see that when you try to multiply A and B, it returns `ValueError` pertaining to matrix shape mismatch."
      ],
      "metadata": {
        "id": "k-FtmYqvaZm8"
      }
    },
    {
      "cell_type": "markdown",
      "source": [
        "### Rule 2: Dot Product has special properties\n",
        "\n",
        "Dot products are prevalent in matrix algebra, this implies that it has several unique properties and it should be considered when formulation solutions:\n",
        " 1. $A \\cdot B \\neq B \\cdot A$\n",
        " 2. $A \\cdot (B \\cdot C) = (A \\cdot B) \\cdot C$\n",
        " 3. $A\\cdot(B+C) = A\\cdot B + A\\cdot C$\n",
        " 4. $(B+C)\\cdot A = B\\cdot A + C\\cdot A$\n",
        " 5. $A\\cdot I = A$\n",
        " 6. $A\\cdot \\emptyset = \\emptyset$ "
      ],
      "metadata": {
        "id": "etDWdU4maafx"
      }
    },
    {
      "cell_type": "code",
      "source": [
        "A = np.array([\n",
        "    [4,5,6],\n",
        "    [3,5,7],\n",
        "    [2,3,5]\n",
        "])\n",
        "B = np.array([\n",
        "    [9,2,7],\n",
        "    [2,11,10],\n",
        "    [3,5,7]\n",
        "])\n",
        "C = np.array([\n",
        "    [6,5,2],\n",
        "    [9,3,2],\n",
        "    [2,1,2]\n",
        "])"
      ],
      "metadata": {
        "id": "vl7Dm8-Wafcp"
      },
      "execution_count": null,
      "outputs": []
    },
    {
      "cell_type": "code",
      "source": [
        "np.eye(3)"
      ],
      "metadata": {
        "colab": {
          "base_uri": "https://localhost:8080/"
        },
        "id": "q5_IgOgcyiy9",
        "outputId": "47c95ff5-feab-4469-90a5-a323ecdd5116"
      },
      "execution_count": null,
      "outputs": [
        {
          "output_type": "execute_result",
          "data": {
            "text/plain": [
              "array([[1., 0., 0.],\n",
              "       [0., 1., 0.],\n",
              "       [0., 0., 1.]])"
            ]
          },
          "metadata": {},
          "execution_count": 34
        }
      ]
    },
    {
      "cell_type": "code",
      "source": [
        "A.dot(np.eye(3))"
      ],
      "metadata": {
        "colab": {
          "base_uri": "https://localhost:8080/"
        },
        "id": "bCxnCxX6aiWR",
        "outputId": "79e640b0-107d-4923-f3af-fee016973006"
      },
      "execution_count": null,
      "outputs": [
        {
          "output_type": "execute_result",
          "data": {
            "text/plain": [
              "array([[4., 5., 6.],\n",
              "       [3., 5., 7.],\n",
              "       [2., 3., 5.]])"
            ]
          },
          "metadata": {},
          "execution_count": 35
        }
      ]
    },
    {
      "cell_type": "code",
      "source": [
        "np.array_equal(A@B, B@A)"
      ],
      "metadata": {
        "colab": {
          "base_uri": "https://localhost:8080/"
        },
        "id": "ATLU9Cqwajq5",
        "outputId": "05e9252c-9f4e-406c-c34a-8809c335b310"
      },
      "execution_count": null,
      "outputs": [
        {
          "output_type": "execute_result",
          "data": {
            "text/plain": [
              "False"
            ]
          },
          "metadata": {},
          "execution_count": 36
        }
      ]
    },
    {
      "cell_type": "code",
      "source": [
        "E = A @ (B @ C)\n",
        "E"
      ],
      "metadata": {
        "colab": {
          "base_uri": "https://localhost:8080/"
        },
        "id": "mumrNTDdakkp",
        "outputId": "00fa59c5-6aa1-46c5-b704-9d4fa5c33802"
      },
      "execution_count": null,
      "outputs": [
        {
          "output_type": "execute_result",
          "data": {
            "text/plain": [
              "array([[1461,  719,  554],\n",
              "       [1452,  698,  548],\n",
              "       [ 950,  460,  360]])"
            ]
          },
          "metadata": {},
          "execution_count": 37
        }
      ]
    },
    {
      "cell_type": "code",
      "source": [
        "F = (A @ B) @ C\n",
        "F"
      ],
      "metadata": {
        "colab": {
          "base_uri": "https://localhost:8080/"
        },
        "id": "pZaQWRzQalcJ",
        "outputId": "33f0d967-7e2a-421f-85eb-2cbc740327c8"
      },
      "execution_count": null,
      "outputs": [
        {
          "output_type": "execute_result",
          "data": {
            "text/plain": [
              "array([[1461,  719,  554],\n",
              "       [1452,  698,  548],\n",
              "       [ 950,  460,  360]])"
            ]
          },
          "metadata": {},
          "execution_count": 38
        }
      ]
    },
    {
      "cell_type": "code",
      "source": [
        "np.array_equal(E, X)"
      ],
      "metadata": {
        "colab": {
          "base_uri": "https://localhost:8080/"
        },
        "id": "jrqKOJrCamPb",
        "outputId": "aa65420d-7ca9-4068-87c1-ce3973ddbe63"
      },
      "execution_count": null,
      "outputs": [
        {
          "output_type": "execute_result",
          "data": {
            "text/plain": [
              "False"
            ]
          },
          "metadata": {},
          "execution_count": 39
        }
      ]
    },
    {
      "cell_type": "code",
      "source": [
        "np.array_equiv(E, F)"
      ],
      "metadata": {
        "colab": {
          "base_uri": "https://localhost:8080/"
        },
        "id": "pfzBV3ZDane0",
        "outputId": "63a36a95-0430-4f85-97b8-70c982d08f3b"
      },
      "execution_count": null,
      "outputs": [
        {
          "output_type": "execute_result",
          "data": {
            "text/plain": [
              "True"
            ]
          },
          "metadata": {},
          "execution_count": 40
        }
      ]
    },
    {
      "cell_type": "code",
      "source": [
        "A @ F"
      ],
      "metadata": {
        "colab": {
          "base_uri": "https://localhost:8080/"
        },
        "id": "0gb2bCBDauBJ",
        "outputId": "a02b1854-a7e6-4dfc-bfe0-757f8e0b6c13"
      },
      "execution_count": null,
      "outputs": [
        {
          "output_type": "execute_result",
          "data": {
            "text/plain": [
              "array([[18804,  9126,  7116],\n",
              "       [18293,  8867,  6922],\n",
              "       [12028,  5832,  4552]])"
            ]
          },
          "metadata": {},
          "execution_count": 41
        }
      ]
    },
    {
      "cell_type": "code",
      "source": [
        "z_mat = np.zeros(A.shape)\n",
        "z_mat"
      ],
      "metadata": {
        "colab": {
          "base_uri": "https://localhost:8080/"
        },
        "id": "ePtPvr2Pa4Yj",
        "outputId": "70ce5dac-05a9-4332-dfe8-d1d0df70ab3c"
      },
      "execution_count": null,
      "outputs": [
        {
          "output_type": "execute_result",
          "data": {
            "text/plain": [
              "array([[0., 0., 0.],\n",
              "       [0., 0., 0.],\n",
              "       [0., 0., 0.]])"
            ]
          },
          "metadata": {},
          "execution_count": 42
        }
      ]
    },
    {
      "cell_type": "code",
      "source": [
        "a_dot_z = A.dot(np.zeros(A.shape))\n",
        "a_dot_z"
      ],
      "metadata": {
        "colab": {
          "base_uri": "https://localhost:8080/"
        },
        "id": "EF3FpzDgbL4p",
        "outputId": "19603911-ebf1-4369-c9d4-5e3653b40f1d"
      },
      "execution_count": null,
      "outputs": [
        {
          "output_type": "execute_result",
          "data": {
            "text/plain": [
              "array([[0., 0., 0.],\n",
              "       [0., 0., 0.],\n",
              "       [0., 0., 0.]])"
            ]
          },
          "metadata": {},
          "execution_count": 43
        }
      ]
    },
    {
      "cell_type": "code",
      "source": [
        "np.array_equal(a_dot_z,z_mat)"
      ],
      "metadata": {
        "colab": {
          "base_uri": "https://localhost:8080/"
        },
        "id": "e4Ot2pC9bOEL",
        "outputId": "7f799231-78e2-4f52-eb80-78d2d8efc14e"
      },
      "execution_count": null,
      "outputs": [
        {
          "output_type": "execute_result",
          "data": {
            "text/plain": [
              "True"
            ]
          },
          "metadata": {},
          "execution_count": 44
        }
      ]
    },
    {
      "cell_type": "code",
      "source": [
        "null_mat = np.empty(A.shape, dtype=float)\n",
        "null = np.array(null_mat,dtype=float)\n",
        "print(null)\n",
        "np.allclose(a_dot_z,null)"
      ],
      "metadata": {
        "colab": {
          "base_uri": "https://localhost:8080/"
        },
        "id": "UWqTj-LdbPXL",
        "outputId": "322ac7ab-a5da-4c10-b6a2-c3d215da776e"
      },
      "execution_count": null,
      "outputs": [
        {
          "output_type": "stream",
          "name": "stdout",
          "text": [
            "[[0. 0. 0.]\n",
            " [0. 0. 0.]\n",
            " [0. 0. 0.]]\n"
          ]
        },
        {
          "output_type": "execute_result",
          "data": {
            "text/plain": [
              "True"
            ]
          },
          "metadata": {},
          "execution_count": 45
        }
      ]
    },
    {
      "cell_type": "markdown",
      "source": [
        "## Determinant"
      ],
      "metadata": {
        "id": "hAUk4sBNbRDA"
      }
    },
    {
      "cell_type": "markdown",
      "source": [
        "A determinant is a scalar value derived from a square matrix. The determinant is a fundamental and important value used in matrix algebra. Although it will not be evident in this laboratory on how it can be used practically, but it will be reatly used in future lessons.\n",
        "\n",
        "The determinant of some matrix $A$ is denoted as $det(A)$ or $|A|$. So let's say $A$ is represented as:\n",
        "$$A = \\begin{bmatrix}a_{(0,0)}&a_{(0,1)}\\\\a_{(1,0)}&a_{(1,1)}\\end{bmatrix}$$\n",
        "We can compute for the determinant as:\n",
        "$$|A| = a_{(0,0)}*a_{(1,1)} - a_{(1,0)}*a_{(0,1)}$$\n",
        "So if we have $A$ as:\n",
        "$$A = \\begin{bmatrix}1&4\\\\0&3\\end{bmatrix}, |A| = 3$$\n",
        "\n",
        "But you might wonder how about square matrices beyond the shape $(2,2)$? We can approach this problem by using several methods such as co-factor expansion and the minors method. This can be taught in the lecture of the laboratory but we can achieve the strenuous computation of high-dimensional matrices programmatically using Python. We can achieve this by using `np.linalg.det()`."
      ],
      "metadata": {
        "id": "TLEy6pcSbTpQ"
      }
    },
    {
      "cell_type": "code",
      "source": [
        "A = np.array([\n",
        "    [2,5],\n",
        "    [6,6]\n",
        "])\n",
        "np.linalg.det(A)"
      ],
      "metadata": {
        "colab": {
          "base_uri": "https://localhost:8080/"
        },
        "id": "Rztk6xHfbWnw",
        "outputId": "b0cf163b-6a13-43e0-8bd3-0c73049f7648"
      },
      "execution_count": null,
      "outputs": [
        {
          "output_type": "execute_result",
          "data": {
            "text/plain": [
              "-17.999999999999996"
            ]
          },
          "metadata": {},
          "execution_count": 77
        }
      ]
    },
    {
      "cell_type": "code",
      "source": [
        "B = np.array([\n",
        "              [6, 5, 6],\n",
        "              [7, 6, 6],\n",
        "              [4, 3, 5]\n",
        "])\n",
        "np.linalg.det(B)"
      ],
      "metadata": {
        "colab": {
          "base_uri": "https://localhost:8080/"
        },
        "id": "LewLlA5FbX2p",
        "outputId": "a92cb3e3-3b75-4299-f97b-fc418d639eb6"
      },
      "execution_count": null,
      "outputs": [
        {
          "output_type": "execute_result",
          "data": {
            "text/plain": [
              "-1.0000000000000064"
            ]
          },
          "metadata": {},
          "execution_count": 76
        }
      ]
    },
    {
      "cell_type": "code",
      "source": [
        "C = np.array([\n",
        "    [11,13,15,16],\n",
        "    [10,5,3,4],\n",
        "    [3,2,6,3],\n",
        "    [7,8,9,10]\n",
        "])\n",
        "np.linalg.det(C)"
      ],
      "metadata": {
        "colab": {
          "base_uri": "https://localhost:8080/"
        },
        "id": "YDDIs937bZI4",
        "outputId": "5b017177-9bb3-42a0-9da6-33f1bb3bd2fb"
      },
      "execution_count": null,
      "outputs": [
        {
          "output_type": "execute_result",
          "data": {
            "text/plain": [
              "-87.00000000000023"
            ]
          },
          "metadata": {},
          "execution_count": 80
        }
      ]
    },
    {
      "cell_type": "markdown",
      "source": [
        "## Inverse"
      ],
      "metadata": {
        "id": "jYbX61T6basx"
      }
    },
    {
      "cell_type": "markdown",
      "source": [
        "The inverse of a matrix is another fundamental operation in matrix algebra. Determining the inverse of a matrix let us determine if its solvability and its characteristic as a system of linear equation — we'll expand on this in the nect module. Another use of the inverse matrix is solving the problem of divisibility between matrices. Although element-wise division exists but dividing the entire concept of matrices does not exists. Inverse matrices provides a related operation that could have the same concept of \"dividing\" matrices.\n",
        "\n",
        "Now to determine the inverse of a matrix we need to perform several steps. So let's say we have a matrix $M$:\n",
        "$$M = \\begin{bmatrix}1&7\\\\-3&5\\end{bmatrix}$$\n",
        "First, we need to get the determinant of $M$.\n",
        "$$|M| = (1)(5)-(-3)(7) = 26$$\n",
        "Next, we need to reform the matrix into the inverse form:\n",
        "$$M^{-1} = \\frac{1}{|M|} \\begin{bmatrix} m_{(1,1)} & -m_{(0,1)} \\\\ -m_{(1,0)} & m_{(0,0)}\\end{bmatrix}$$\n",
        "So that will be:\n",
        "$$M^{-1} = \\frac{1}{26} \\begin{bmatrix} 5 & -7 \\\\ 3 & 1\\end{bmatrix} = \\begin{bmatrix} \\frac{5}{26} & \\frac{-7}{26} \\\\ \\frac{3}{26} & \\frac{1}{26}\\end{bmatrix}$$\n",
        "For higher-dimension matrices you might need to use co-factors, minors, adjugates, and other reduction techinques. To solve this programmatially we can use `np.linalg.inv()`."
      ],
      "metadata": {
        "id": "kbSr1LCEbsxp"
      }
    },
    {
      "cell_type": "code",
      "source": [
        "M = np.array([\n",
        "    [1,7],\n",
        "    [-3, 5]\n",
        "])\n",
        "\n",
        "np.array(M @ np.linalg.inv(M), dtype=int)"
      ],
      "metadata": {
        "id": "X_MXvLlubvFS",
        "colab": {
          "base_uri": "https://localhost:8080/"
        },
        "outputId": "b05b9488-b848-417c-82aa-700b73a1de4c"
      },
      "execution_count": null,
      "outputs": [
        {
          "output_type": "execute_result",
          "data": {
            "text/plain": [
              "array([[1, 0],\n",
              "       [0, 1]])"
            ]
          },
          "metadata": {},
          "execution_count": 89
        }
      ]
    },
    {
      "cell_type": "code",
      "source": [
        "P = np.array([\n",
        "              [6, 9, 0],\n",
        "              [4, 2, -1],\n",
        "              [3, 6, 7]\n",
        "])\n",
        "Q = np.linalg.inv(P)\n",
        "Q"
      ],
      "metadata": {
        "id": "7EPVh_pmbwCJ",
        "colab": {
          "base_uri": "https://localhost:8080/"
        },
        "outputId": "cecf06b4-67af-46b7-9ac0-6d7972351f68"
      },
      "execution_count": null,
      "outputs": [
        {
          "output_type": "execute_result",
          "data": {
            "text/plain": [
              "array([[-0.12578616,  0.39622642,  0.05660377],\n",
              "       [ 0.19496855, -0.26415094, -0.03773585],\n",
              "       [-0.11320755,  0.05660377,  0.1509434 ]])"
            ]
          },
          "metadata": {},
          "execution_count": 50
        }
      ]
    },
    {
      "cell_type": "code",
      "source": [
        "P @ Q"
      ],
      "metadata": {
        "id": "UXLBsVbpbxcE",
        "colab": {
          "base_uri": "https://localhost:8080/"
        },
        "outputId": "f88632eb-8f94-458b-c030-abc5403e9c2d"
      },
      "execution_count": null,
      "outputs": [
        {
          "output_type": "execute_result",
          "data": {
            "text/plain": [
              "array([[ 1.00000000e+00, -5.55111512e-17, -6.93889390e-18],\n",
              "       [ 8.32667268e-17,  1.00000000e+00, -2.77555756e-17],\n",
              "       [ 2.77555756e-17, -1.38777878e-17,  1.00000000e+00]])"
            ]
          },
          "metadata": {},
          "execution_count": 51
        }
      ]
    },
    {
      "cell_type": "code",
      "source": [
        "## And now let's test your skills in solving a matrix with high dimensions:\n",
        "N = np.array([\n",
        "    [18,5,23,1,0,33,5],\n",
        "    [0,45,0,11,2,4,2],\n",
        "    [5,9,20,0,0,0,3],\n",
        "    [1,6,4,4,8,43,1],\n",
        "    [8,6,8,7,1,6,1],\n",
        "    [-5,15,2,0,0,6,-30],\n",
        "    [-2,-5,1,2,1,20,12],\n",
        "])\n",
        "N_inv = np.linalg.inv(N)\n",
        "np.array(N @ N_inv,dtype=int)"
      ],
      "metadata": {
        "id": "w3xapss0bx5S",
        "colab": {
          "base_uri": "https://localhost:8080/"
        },
        "outputId": "c50cb3f9-1859-4c5d-b67b-ce1847693ba7"
      },
      "execution_count": null,
      "outputs": [
        {
          "output_type": "execute_result",
          "data": {
            "text/plain": [
              "array([[0, 0, 0, 0, 0, 0, 0],\n",
              "       [0, 0, 0, 0, 0, 0, 0],\n",
              "       [0, 0, 1, 0, 0, 0, 0],\n",
              "       [0, 0, 0, 1, 0, 0, 0],\n",
              "       [0, 0, 0, 0, 0, 0, 0],\n",
              "       [0, 0, 0, 0, 0, 0, 0],\n",
              "       [0, 0, 0, 0, 0, 0, 0]])"
            ]
          },
          "metadata": {},
          "execution_count": 91
        }
      ]
    },
    {
      "cell_type": "code",
      "source": [
        "squad = np.array([\n",
        "    [1.0, 1.0, 0.5],\n",
        "    [0.7, 0.7, 0.9],\n",
        "    [0.3, 0.3, 1.0]\n",
        "])\n",
        "weights = np.array([\n",
        "    [0.2, 0.2, 0.6]\n",
        "])\n",
        "p_grade = squad @ weights.T\n",
        "p_grade\n"
      ],
      "metadata": {
        "id": "bWT07PFbb0sS",
        "colab": {
          "base_uri": "https://localhost:8080/"
        },
        "outputId": "a1b2f0b2-7b5a-46a9-8100-b306bef37da0"
      },
      "execution_count": null,
      "outputs": [
        {
          "output_type": "execute_result",
          "data": {
            "text/plain": [
              "array([[0.7 ],\n",
              "       [0.82],\n",
              "       [0.72]])"
            ]
          },
          "metadata": {},
          "execution_count": 53
        }
      ]
    },
    {
      "cell_type": "markdown",
      "source": [
        "## Activity"
      ],
      "metadata": {
        "id": "TKNyydpGb4yo"
      }
    },
    {
      "cell_type": "markdown",
      "source": [
        "# Task 1"
      ],
      "metadata": {
        "id": "PgAQRF-wb6_x"
      }
    },
    {
      "cell_type": "markdown",
      "source": [
        "Prove and implement the remaining 6 matrix multiplication properties. You may create your own matrices in which their shapes should not be lower than $(3,3)$.\n",
        "In your methodology, create individual flowcharts for each property and discuss the property you would then present your proofs or validity of your implementation in the results section by comparing your result to present functions from NumPy."
      ],
      "metadata": {
        "id": "zIG1Cr8ab8pB"
      }
    },
    {
      "cell_type": "code",
      "source": [
        "#Declaration of matrices\n",
        "ADU = np.array([\n",
        "    [6,12,8,4],\n",
        "    [2,1,11,2],\n",
        "    [3,3,3,4],\n",
        "    [0,0,8,3]\n",
        "])\n",
        "UST = np.array([\n",
        "    [10,11,4,3],\n",
        "    [3,2,9,9],\n",
        "    [5,6,7,8],\n",
        "    [12,8,2,1]\n",
        "])\n",
        "FEU = np.array([\n",
        "    [2,0,9,0],\n",
        "    [2,11,16,12],\n",
        "    [8,9,3,4],\n",
        "    [2,4,9,2]\n",
        "])"
      ],
      "metadata": {
        "id": "YLaeO2M5b_wQ"
      },
      "execution_count": null,
      "outputs": []
    },
    {
      "cell_type": "markdown",
      "source": [
        "## First property"
      ],
      "metadata": {
        "id": "Ko6SXm4HYAQg"
      }
    },
    {
      "cell_type": "code",
      "source": [
        "ADU @ UST"
      ],
      "metadata": {
        "id": "K6h6GhLNcBZx",
        "colab": {
          "base_uri": "https://localhost:8080/"
        },
        "outputId": "dbc9de58-cac2-4a03-970c-c4bd73ba86df"
      },
      "execution_count": null,
      "outputs": [
        {
          "output_type": "execute_result",
          "data": {
            "text/plain": [
              "array([[184, 170, 196, 194],\n",
              "       [102, 106,  98, 105],\n",
              "       [102,  89,  68,  64],\n",
              "       [ 76,  72,  62,  67]])"
            ]
          },
          "metadata": {},
          "execution_count": 57
        }
      ]
    },
    {
      "cell_type": "code",
      "source": [
        "FEU @ ADU"
      ],
      "metadata": {
        "id": "7dR09KcrcBkp",
        "colab": {
          "base_uri": "https://localhost:8080/"
        },
        "outputId": "b4cab0bf-7465-4d79-a91e-bc03cd0e1965"
      },
      "execution_count": null,
      "outputs": [
        {
          "output_type": "execute_result",
          "data": {
            "text/plain": [
              "array([[ 39,  51,  43,  44],\n",
              "       [ 82,  83, 281, 130],\n",
              "       [ 75, 114, 204,  74],\n",
              "       [ 47,  55, 103,  58]])"
            ]
          },
          "metadata": {},
          "execution_count": 58
        }
      ]
    },
    {
      "cell_type": "code",
      "source": [
        "np.array_equal(ADU@UST, FEU@ADU)"
      ],
      "metadata": {
        "id": "LyPSAL3EcBzB",
        "colab": {
          "base_uri": "https://localhost:8080/"
        },
        "outputId": "ef5f325b-e1cb-4336-ff3e-1b5667248df4"
      },
      "execution_count": null,
      "outputs": [
        {
          "output_type": "execute_result",
          "data": {
            "text/plain": [
              "False"
            ]
          },
          "metadata": {},
          "execution_count": 59
        }
      ]
    },
    {
      "cell_type": "markdown",
      "source": [
        "## Second property"
      ],
      "metadata": {
        "id": "n6dpqfAOYGR4"
      }
    },
    {
      "cell_type": "code",
      "source": [
        "ADU @ (UST @ FEU)"
      ],
      "metadata": {
        "id": "yldu8lB7cCCh",
        "colab": {
          "base_uri": "https://localhost:8080/"
        },
        "outputId": "9291dd55-2629-4631-cb50-fea24940c8c3"
      },
      "execution_count": null,
      "outputs": [
        {
          "output_type": "execute_result",
          "data": {
            "text/plain": [
              "array([[2664, 4410, 6710, 3212],\n",
              "       [1410, 2468, 3853, 1874],\n",
              "       [1054, 1847, 3122, 1468],\n",
              "       [ 926, 1618, 2625, 1246]])"
            ]
          },
          "metadata": {},
          "execution_count": 60
        }
      ]
    },
    {
      "cell_type": "code",
      "source": [
        "(ADU @ UST) @ FEU"
      ],
      "metadata": {
        "id": "Sl1OqUHkcCUx",
        "colab": {
          "base_uri": "https://localhost:8080/"
        },
        "outputId": "4bada251-01c8-40d7-ff49-46d53c268608"
      },
      "execution_count": null,
      "outputs": [
        {
          "output_type": "execute_result",
          "data": {
            "text/plain": [
              "array([[2664, 4410, 6710, 3212],\n",
              "       [1410, 2468, 3853, 1874],\n",
              "       [1054, 1847, 3122, 1468],\n",
              "       [ 926, 1618, 2625, 1246]])"
            ]
          },
          "metadata": {},
          "execution_count": 61
        }
      ]
    },
    {
      "cell_type": "code",
      "source": [
        "np.array_equiv(ADU @ (UST @ FEU), (ADU @ UST) @ FEU)"
      ],
      "metadata": {
        "colab": {
          "base_uri": "https://localhost:8080/"
        },
        "id": "WJHTPHBKYJ91",
        "outputId": "19dd0f71-e7ad-415c-f4e7-44cc3987fe94"
      },
      "execution_count": null,
      "outputs": [
        {
          "output_type": "execute_result",
          "data": {
            "text/plain": [
              "True"
            ]
          },
          "metadata": {},
          "execution_count": 62
        }
      ]
    },
    {
      "cell_type": "markdown",
      "source": [
        "## Third Property"
      ],
      "metadata": {
        "id": "d78RtOdzYLoB"
      }
    },
    {
      "cell_type": "code",
      "source": [
        "ADU @ (UST+ FEU)"
      ],
      "metadata": {
        "colab": {
          "base_uri": "https://localhost:8080/"
        },
        "id": "yKOj8FurYK-P",
        "outputId": "cf587e21-8396-4f6f-e15d-1812887d602c"
      },
      "execution_count": null,
      "outputs": [
        {
          "output_type": "execute_result",
          "data": {
            "text/plain": [
              "array([[292, 390, 502, 378],\n",
              "       [200, 224, 183, 165],\n",
              "       [146, 165, 188, 120],\n",
              "       [146, 156, 113, 105]])"
            ]
          },
          "metadata": {},
          "execution_count": 63
        }
      ]
    },
    {
      "cell_type": "code",
      "source": [
        "(ADU @ UST)+ (ADU @ FEU)"
      ],
      "metadata": {
        "colab": {
          "base_uri": "https://localhost:8080/"
        },
        "id": "iF08XZkqYObv",
        "outputId": "5796b872-2355-49f3-8b33-98ea0019b79f"
      },
      "execution_count": null,
      "outputs": [
        {
          "output_type": "execute_result",
          "data": {
            "text/plain": [
              "array([[292, 390, 502, 378],\n",
              "       [200, 224, 183, 165],\n",
              "       [146, 165, 188, 120],\n",
              "       [146, 156, 113, 105]])"
            ]
          },
          "metadata": {},
          "execution_count": 64
        }
      ]
    },
    {
      "cell_type": "code",
      "source": [
        "np.array_equiv(ADU @ (UST+FEU) , ADU @ UST + ADU @ FEU)"
      ],
      "metadata": {
        "colab": {
          "base_uri": "https://localhost:8080/"
        },
        "id": "d0Q7OrWAYOmG",
        "outputId": "bc6a7539-9caa-4fa6-97d7-29e3e7ff9a95"
      },
      "execution_count": null,
      "outputs": [
        {
          "output_type": "execute_result",
          "data": {
            "text/plain": [
              "True"
            ]
          },
          "metadata": {},
          "execution_count": 65
        }
      ]
    },
    {
      "cell_type": "markdown",
      "source": [
        "## Fourth Property"
      ],
      "metadata": {
        "id": "0QQ7YSnuYVEP"
      }
    },
    {
      "cell_type": "code",
      "source": [
        "(UST + FEU) @ ADU"
      ],
      "metadata": {
        "colab": {
          "base_uri": "https://localhost:8080/"
        },
        "id": "CybVwp3LYOx5",
        "outputId": "8571213c-b896-4c13-af6b-9dc36d94b974"
      },
      "execution_count": null,
      "outputs": [
        {
          "output_type": "execute_result",
          "data": {
            "text/plain": [
              "array([[133, 194, 280, 131],\n",
              "       [131, 148, 426, 209],\n",
              "       [138, 201, 395, 158],\n",
              "       [141, 213, 301, 133]])"
            ]
          },
          "metadata": {},
          "execution_count": 66
        }
      ]
    },
    {
      "cell_type": "code",
      "source": [
        "(UST @ ADU) + (UST @ ADU)"
      ],
      "metadata": {
        "colab": {
          "base_uri": "https://localhost:8080/"
        },
        "id": "RW9EUeE7YPAu",
        "outputId": "da528767-2839-459e-807c-54c5e4e90909"
      },
      "execution_count": null,
      "outputs": [
        {
          "output_type": "execute_result",
          "data": {
            "text/plain": [
              "array([[188, 286, 474, 174],\n",
              "       [ 98, 130, 290, 158],\n",
              "       [126, 174, 382, 168],\n",
              "       [188, 316, 396, 150]])"
            ]
          },
          "metadata": {},
          "execution_count": 67
        }
      ]
    },
    {
      "cell_type": "code",
      "source": [
        "np.array_equiv((UST + FEU) @ ADU, (UST @ ADU) + (FEU @ ADU))"
      ],
      "metadata": {
        "colab": {
          "base_uri": "https://localhost:8080/"
        },
        "id": "N2WrYN70YW83",
        "outputId": "7873329e-e888-458a-fca7-b26eb581b9f7"
      },
      "execution_count": null,
      "outputs": [
        {
          "output_type": "execute_result",
          "data": {
            "text/plain": [
              "True"
            ]
          },
          "metadata": {},
          "execution_count": 68
        }
      ]
    },
    {
      "cell_type": "markdown",
      "source": [
        "## Fifth property"
      ],
      "metadata": {
        "id": "NCAf5drAYaG3"
      }
    },
    {
      "cell_type": "code",
      "source": [
        "ADU\n"
      ],
      "metadata": {
        "colab": {
          "base_uri": "https://localhost:8080/"
        },
        "id": "iwsi_GssYXG_",
        "outputId": "5342e1c4-3e1c-4109-af89-77b9e9d0a0f1"
      },
      "execution_count": null,
      "outputs": [
        {
          "output_type": "execute_result",
          "data": {
            "text/plain": [
              "array([[ 6, 12,  8,  4],\n",
              "       [ 2,  1, 11,  2],\n",
              "       [ 3,  3,  3,  4],\n",
              "       [ 0,  0,  8,  3]])"
            ]
          },
          "metadata": {},
          "execution_count": 69
        }
      ]
    },
    {
      "cell_type": "code",
      "source": [
        "ADU @ np.eye(4)"
      ],
      "metadata": {
        "colab": {
          "base_uri": "https://localhost:8080/"
        },
        "id": "uEgoUYmsYXUn",
        "outputId": "90aa4935-6db3-4a58-d944-d3eeaae89123"
      },
      "execution_count": null,
      "outputs": [
        {
          "output_type": "execute_result",
          "data": {
            "text/plain": [
              "array([[ 6., 12.,  8.,  4.],\n",
              "       [ 2.,  1., 11.,  2.],\n",
              "       [ 3.,  3.,  3.,  4.],\n",
              "       [ 0.,  0.,  8.,  3.]])"
            ]
          },
          "metadata": {},
          "execution_count": 70
        }
      ]
    },
    {
      "cell_type": "code",
      "source": [
        "np.array_equiv(ADU, ADU@np.eye(4))"
      ],
      "metadata": {
        "colab": {
          "base_uri": "https://localhost:8080/"
        },
        "id": "B8AmR_CCYdl_",
        "outputId": "5a993509-6af4-495a-ee2d-4a21a27749a4"
      },
      "execution_count": null,
      "outputs": [
        {
          "output_type": "execute_result",
          "data": {
            "text/plain": [
              "True"
            ]
          },
          "metadata": {},
          "execution_count": 71
        }
      ]
    },
    {
      "cell_type": "markdown",
      "source": [
        "## Sixth Property"
      ],
      "metadata": {
        "id": "jbTrWv_fYe3_"
      }
    },
    {
      "cell_type": "code",
      "source": [
        "ADU @ np.zeros((4,4))"
      ],
      "metadata": {
        "colab": {
          "base_uri": "https://localhost:8080/"
        },
        "id": "C5Jh3pVnYi5o",
        "outputId": "2b8993ae-aabf-4cb7-eb45-7d62b31b44b7"
      },
      "execution_count": null,
      "outputs": [
        {
          "output_type": "execute_result",
          "data": {
            "text/plain": [
              "array([[0., 0., 0., 0.],\n",
              "       [0., 0., 0., 0.],\n",
              "       [0., 0., 0., 0.],\n",
              "       [0., 0., 0., 0.]])"
            ]
          },
          "metadata": {},
          "execution_count": 72
        }
      ]
    },
    {
      "cell_type": "code",
      "source": [
        "np.zeros((4,4))"
      ],
      "metadata": {
        "colab": {
          "base_uri": "https://localhost:8080/"
        },
        "id": "VjVqtKQmYksf",
        "outputId": "575e9916-ee7d-4c99-97b5-65d09003d247"
      },
      "execution_count": null,
      "outputs": [
        {
          "output_type": "execute_result",
          "data": {
            "text/plain": [
              "array([[0., 0., 0., 0.],\n",
              "       [0., 0., 0., 0.],\n",
              "       [0., 0., 0., 0.],\n",
              "       [0., 0., 0., 0.]])"
            ]
          },
          "metadata": {},
          "execution_count": 73
        }
      ]
    },
    {
      "cell_type": "code",
      "source": [
        "np.array_equiv(ADU @ np.zeros((4,4)),np.zeros((4,4)))"
      ],
      "metadata": {
        "colab": {
          "base_uri": "https://localhost:8080/"
        },
        "id": "1oMLxa1KYmZg",
        "outputId": "af213206-d7b6-4cbb-ec08-3d68ac460604"
      },
      "execution_count": null,
      "outputs": [
        {
          "output_type": "execute_result",
          "data": {
            "text/plain": [
              "True"
            ]
          },
          "metadata": {},
          "execution_count": 74
        }
      ]
    }
  ]
}