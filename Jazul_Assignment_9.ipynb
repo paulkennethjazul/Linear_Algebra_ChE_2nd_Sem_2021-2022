{
  "nbformat": 4,
  "nbformat_minor": 0,
  "metadata": {
    "colab": {
      "name": "Jazul_Assignment 9.ipynb",
      "provenance": [],
      "authorship_tag": "ABX9TyMdRL48xp9irkinyOFNBQBY",
      "include_colab_link": true
    },
    "kernelspec": {
      "name": "python3",
      "display_name": "Python 3"
    },
    "language_info": {
      "name": "python"
    }
  },
  "cells": [
    {
      "cell_type": "markdown",
      "metadata": {
        "id": "view-in-github",
        "colab_type": "text"
      },
      "source": [
        "<a href=\"https://colab.research.google.com/github/paulkennethjazul/Linear_Algebra_ChE_2nd_Sem_2021-2022/blob/main/Jazul_Assignment_9.ipynb\" target=\"_parent\"><img src=\"https://colab.research.google.com/assets/colab-badge.svg\" alt=\"Open In Colab\"/></a>"
      ]
    },
    {
      "cell_type": "markdown",
      "source": [
        "# Lab 2 - Plotting Vector using NumPy and MatPlotLib\n",
        "\n"
      ],
      "metadata": {
        "id": "oqyhMlRgcQop"
      }
    },
    {
      "cell_type": "markdown",
      "source": [
        "In this laboratory we will be discussing the basics of numerical and scientific programming by working with Vectors using NumPy and MatPlotLib."
      ],
      "metadata": {
        "id": "aAkDwVr2cfdu"
      }
    },
    {
      "cell_type": "markdown",
      "source": [
        "### Objectives\n",
        "At the end of this activity you will be able to:\n",
        "1. Be familiar with the libraries in Python for numerical and scientific programming.\n",
        "2. Visualize vectors through Python programming.\n",
        "3. Perform simple vector operations through code."
      ],
      "metadata": {
        "id": "E6HR9-bkchjp"
      }
    },
    {
      "cell_type": "markdown",
      "source": [
        "## Discussion"
      ],
      "metadata": {
        "id": "kIYEjjyFck_I"
      }
    },
    {
      "cell_type": "markdown",
      "source": [
        "### NumPy"
      ],
      "metadata": {
        "id": "wzwEnP7Bcmwf"
      }
    },
    {
      "cell_type": "markdown",
      "source": [
        "NumPy or Numerical Python, is mainly used for matrix and vector operations. It is capable of declaring computing and representing matrices. Most Python scientific programming libraries uses NumPy as the basic code."
      ],
      "metadata": {
        "id": "jZHyU_QNcpTQ"
      }
    },
    {
      "cell_type": "markdown",
      "source": [
        "Scalars \\\\\n",
        "Represent magnitude or a single value\n",
        "\n",
        "Vectors \\\\\n",
        "Represent magnitude with directors"
      ],
      "metadata": {
        "id": "WC0qt6YWcq4w"
      }
    },
    {
      "cell_type": "markdown",
      "source": [
        "##**Representing Vectors**\n",
        "Now that you know how to represent vectors using their component and matrix form we can now hard-code them in Python. Let's say that you have the vectors:\n",
        "\n",
        "$$ \n",
        "James = 6\\hat{x} + 7\\hat{y} \\\\\n",
        "Curry = 1\\hat{x} - 1\\hat{y}\\\\\n",
        "$$"
      ],
      "metadata": {
        "id": "KmOR-nBmcrrY"
      }
    },
    {
      "cell_type": "code",
      "source": [
        "import numpy as np"
      ],
      "metadata": {
        "id": "prvSRYL7c7TR"
      },
      "execution_count": 1,
      "outputs": []
    },
    {
      "cell_type": "code",
      "source": [
        "James = np.array([6, 7])\n",
        "Curry = np.array([1, 1])\n",
        "Harden = np.array([\n",
        "              [2],\n",
        "              [19],\n",
        "              [-9]\n",
        "])\n",
        "Kyrie = np.array ([[12],\n",
        "              [-22],\n",
        "              [34]])\n",
        "print('Vector one is ', James)\n",
        "print('Vector two is ', Curry)\n",
        "print('Vector three is ', Harden)\n",
        "print('Vector four is ', Kyrie)"
      ],
      "metadata": {
        "colab": {
          "base_uri": "https://localhost:8080/"
        },
        "id": "JJttxHg7dArn",
        "outputId": "2e749b0b-c558-470f-99c9-065d8344bfef"
      },
      "execution_count": 2,
      "outputs": [
        {
          "output_type": "stream",
          "name": "stdout",
          "text": [
            "Vector one is  [6 7]\n",
            "Vector two is  [1 1]\n",
            "Vector three is  [[ 2]\n",
            " [19]\n",
            " [-9]]\n",
            "Vector four is  [[ 12]\n",
            " [-22]\n",
            " [ 34]]\n"
          ]
        }
      ]
    },
    {
      "cell_type": "markdown",
      "source": [
        "##Describing Vectors in NumPy\n",
        " Describing vectors is very important if we want to perform basic to advanced operations with them. The fundamental ways in describing vectors are knowing their shape, size and dimensions."
      ],
      "metadata": {
        "id": "vj4bX1OsdGKP"
      }
    },
    {
      "cell_type": "code",
      "source": [
        "James.shape\n",
        "House = np.array([3, 6, 9, 12, 15, 18])\n",
        "\n",
        "print(James.shape)\n",
        "print(House.shape)\n",
        "print(Harden.shape)"
      ],
      "metadata": {
        "colab": {
          "base_uri": "https://localhost:8080/"
        },
        "id": "Q4UMH2jvdKSv",
        "outputId": "5a10e37a-fc9f-458d-fdcb-23e9b20d7f82"
      },
      "execution_count": 3,
      "outputs": [
        {
          "output_type": "stream",
          "name": "stdout",
          "text": [
            "(2,)\n",
            "(6,)\n",
            "(3, 1)\n"
          ]
        }
      ]
    },
    {
      "cell_type": "code",
      "source": [
        "Kyrie.size"
      ],
      "metadata": {
        "colab": {
          "base_uri": "https://localhost:8080/"
        },
        "id": "drYN28B0dMDY",
        "outputId": "2a4dd417-15d9-452f-f748-7f551635a28e"
      },
      "execution_count": 4,
      "outputs": [
        {
          "output_type": "execute_result",
          "data": {
            "text/plain": [
              "3"
            ]
          },
          "metadata": {},
          "execution_count": 4
        }
      ]
    },
    {
      "cell_type": "code",
      "source": [
        "Kyrie.ndim"
      ],
      "metadata": {
        "colab": {
          "base_uri": "https://localhost:8080/"
        },
        "id": "tuTSilA5dNEv",
        "outputId": "a52bc648-6483-4720-c642-5ab6007d2cc2"
      },
      "execution_count": 5,
      "outputs": [
        {
          "output_type": "execute_result",
          "data": {
            "text/plain": [
              "2"
            ]
          },
          "metadata": {},
          "execution_count": 5
        }
      ]
    },
    {
      "cell_type": "markdown",
      "source": [
        "Great! Now let's try to explore in performing operations with these vectors."
      ],
      "metadata": {
        "id": "XTOMrNhxdO8_"
      }
    },
    {
      "cell_type": "markdown",
      "source": [
        "##Addition\n",
        "The addition rule is simple, the we just need to add the elements of the matrices according to their index. \n",
        "\n",
        "There are several ways to perform addition operation"
      ],
      "metadata": {
        "id": "KIjjsqSddQbY"
      }
    },
    {
      "cell_type": "code",
      "source": [
        "add1 = np.add(James, Curry) \n",
        "add2 = np.add(Harden,Kyrie)\n",
        "\n",
        "add1"
      ],
      "metadata": {
        "colab": {
          "base_uri": "https://localhost:8080/"
        },
        "id": "sfbV01tudWvw",
        "outputId": "3b1df587-4561-467a-f691-8649d9d115dc"
      },
      "execution_count": 6,
      "outputs": [
        {
          "output_type": "execute_result",
          "data": {
            "text/plain": [
              "array([7, 8])"
            ]
          },
          "metadata": {},
          "execution_count": 6
        }
      ]
    },
    {
      "cell_type": "code",
      "source": [
        "add3 = James + Curry\n",
        "add3"
      ],
      "metadata": {
        "colab": {
          "base_uri": "https://localhost:8080/"
        },
        "id": "A5_crOL7dXwR",
        "outputId": "4e0c1291-c051-401a-91e3-be6a51a781ba"
      },
      "execution_count": 7,
      "outputs": [
        {
          "output_type": "execute_result",
          "data": {
            "text/plain": [
              "array([7, 8])"
            ]
          },
          "metadata": {},
          "execution_count": 7
        }
      ]
    },
    {
      "cell_type": "code",
      "source": [
        "pos1 = np.array([8,16,20])\n",
        "pos2 = np.array([2,4,2])\n",
        "pos3 = np.array([8,10,12])\n",
        "\n",
        "Add = pos1 + pos2 + pos3\n",
        "Mult = np.multiply(pos1, pos2)\n",
        "Div = pos1 / pos2\n",
        "Div"
      ],
      "metadata": {
        "colab": {
          "base_uri": "https://localhost:8080/"
        },
        "id": "YDDzn0sCdZKJ",
        "outputId": "75e2d89f-0271-4786-bacd-be76ca82504c"
      },
      "execution_count": 19,
      "outputs": [
        {
          "output_type": "execute_result",
          "data": {
            "text/plain": [
              "array([ 4.,  4., 10.])"
            ]
          },
          "metadata": {},
          "execution_count": 19
        }
      ]
    },
    {
      "cell_type": "markdown",
      "source": [
        "**Try for yourself!**\n",
        "Try to implement subtraction, multiplication, and division with vectors "
      ],
      "metadata": {
        "id": "Y_r8OrCndatC"
      }
    },
    {
      "cell_type": "code",
      "source": [
        "### Try out you code here! \n",
        "A = np.array([100,200,350])\n",
        "B = np.array([600,800,1200])\n",
        "\n",
        "ADD = A + B #Addition\n",
        "print(ADD)\n",
        "SUB= A - B #Subtraction\n",
        "print(SUB)\n",
        "MULT = np.multiply(A,B) #Multiplication\n",
        "print(MULT)\n",
        "DIV = A / B #Division\n",
        "print(DIV)\n"
      ],
      "metadata": {
        "colab": {
          "base_uri": "https://localhost:8080/"
        },
        "id": "aEgXguCldckg",
        "outputId": "e308acbe-e9e4-44df-a07f-1daa85be60e6"
      },
      "execution_count": 9,
      "outputs": [
        {
          "output_type": "stream",
          "name": "stdout",
          "text": [
            "[ 700 1000 1550]\n",
            "[-500 -600 -850]\n",
            "[ 60000 160000 420000]\n",
            "[0.16666667 0.25       0.29166667]\n"
          ]
        }
      ]
    },
    {
      "cell_type": "markdown",
      "source": [
        "##Scaling\n",
        "Scaling or scalar multiplication takes a scalar value and performs multiplication with a vector. "
      ],
      "metadata": {
        "id": "sN-qJ0aDdkxY"
      }
    },
    {
      "cell_type": "code",
      "source": [
        "Scale1 = 10 * A\n",
        "Scale2 = np.multiply(10,A)\n",
        "print(Scale1)\n",
        "print(Scale2)"
      ],
      "metadata": {
        "colab": {
          "base_uri": "https://localhost:8080/"
        },
        "id": "fwHZVoHsdrRO",
        "outputId": "99d853df-18fb-4396-ba3c-14ae21a0a893"
      },
      "execution_count": 10,
      "outputs": [
        {
          "output_type": "stream",
          "name": "stdout",
          "text": [
            "[1000 2000 3500]\n",
            "[1000 2000 3500]\n"
          ]
        }
      ]
    },
    {
      "cell_type": "markdown",
      "source": [
        "Try to implement scaling with two vectors."
      ],
      "metadata": {
        "id": "G6R-vZEMdsrP"
      }
    },
    {
      "cell_type": "code",
      "source": [
        "V1 = np.array([4,2])\n",
        "V2 = np.array([8,20])\n",
        "\n",
        "ScaleV1 = 10 * V1\n",
        "print(ScaleV1)\n",
        "ScaleV2 = np.multiply(23,V2)\n",
        "print(ScaleV2)"
      ],
      "metadata": {
        "colab": {
          "base_uri": "https://localhost:8080/"
        },
        "id": "2wSxd2iOdtxo",
        "outputId": "655e8cfc-79d8-4662-e967-07ac947e20be"
      },
      "execution_count": 11,
      "outputs": [
        {
          "output_type": "stream",
          "name": "stdout",
          "text": [
            "[40 20]\n",
            "[184 460]\n"
          ]
        }
      ]
    },
    {
      "cell_type": "markdown",
      "source": [
        "##MatPlotLib\n",
        "MatPlotLib or MATLab Plotting library is Python's take on MATLabs plotting feature. MatPlotLib can be used vastly from graping values to visualizing several dimensions of data.\n",
        "\n",
        "\n",
        "\n"
      ],
      "metadata": {
        "id": "86yawDY2duJf"
      }
    },
    {
      "cell_type": "markdown",
      "source": [
        "##Visualizing Data\n",
        "It's not enough just solving these vectors so might need to visualize them. So we'll use MatPlotLib for that. We'll need to import it first."
      ],
      "metadata": {
        "id": "zRIGDV2Jdy1X"
      }
    },
    {
      "cell_type": "code",
      "source": [
        "import matplotlib.pyplot as plt\n",
        "import matplotlib\n",
        "%matplotlib inline"
      ],
      "metadata": {
        "id": "V-tI5zb_eBpQ"
      },
      "execution_count": 12,
      "outputs": []
    },
    {
      "cell_type": "code",
      "source": [
        "A = [1, -3]\n",
        "B = [8, -1]\n",
        "plt.scatter(A[0], A[1], label='Point A', c='green')\n",
        "plt.scatter(B[0], B[1], label='Point B', c='magenta')\n",
        "plt.grid()\n",
        "plt.legend()\n",
        "plt.show()"
      ],
      "metadata": {
        "colab": {
          "base_uri": "https://localhost:8080/",
          "height": 265
        },
        "id": "jahmujAqeC8o",
        "outputId": "e0718d43-d843-4650-a2af-ca11153b9b36"
      },
      "execution_count": 13,
      "outputs": [
        {
          "output_type": "display_data",
          "data": {
            "text/plain": [
              "<Figure size 432x288 with 1 Axes>"
            ],
            "image/png": "[encoded data removed]"
          },
          "metadata": {
            "needs_background": "light"
          }
        }
      ]
    },
    {
      "cell_type": "code",
      "source": [
        "A = np.array([2, -2])\n",
        "B = np.array([3, 8])\n",
        "R = A + B\n",
        "Magnitude = np.sqrt(np.sum(R**2))\n",
        "\n",
        "plt.title(\"Resultant Vector\\nMagnitude:{}\" .format(Magnitude))\n",
        "plt.xlim(-6, 6)\n",
        "plt.ylim(-6, 6)\n",
        "plt.quiver(0, 0, A[0], A[1], angles='xy', scale_units='xy', scale=1, color='red')\n",
        "plt.quiver(A[0], A[1], B[0], B[1], angles='xy', scale_units='xy', scale=1, color='green')\n",
        "plt.quiver(0, 0, R[0], R[1], angles='xy', scale_units='xy', scale=1, color='black')\n",
        "plt.grid()\n",
        "plt.show()\n",
        "print(R)\n",
        "\n",
        "print(Magnitude)\n",
        "Slope = R[1]/R[0]\n",
        "print(Slope)\n",
        "Angle = (np.arctan(Slope))*(180/np.pi)\n",
        "print(Angle)"
      ],
      "metadata": {
        "colab": {
          "base_uri": "https://localhost:8080/",
          "height": 365
        },
        "id": "B1LhfAk7eEoo",
        "outputId": "e9a4e889-3142-4507-ffbe-573b9d5178e2"
      },
      "execution_count": 14,
      "outputs": [
        {
          "output_type": "display_data",
          "data": {
            "text/plain": [
              "<Figure size 432x288 with 1 Axes>"
            ],
            "image/png": "[encoded data removed]"
          },
          "metadata": {
            "needs_background": "light"
          }
        },
        {
          "output_type": "stream",
          "name": "stdout",
          "text": [
            "[5 6]\n",
            "7.810249675906654\n",
            "1.2\n",
            "50.19442890773481\n"
          ]
        }
      ]
    },
    {
      "cell_type": "code",
      "source": [
        "n = A.shape[0]\n",
        "plt.xlim(-5, 10)\n",
        "plt.ylim(-5, 10)\n",
        "plt.quiver(0,0, A[0], A[1], angles='xy', scale_units='xy',scale=1)\n",
        "plt.quiver(A[0],A[1], B[0], B[1], angles='xy', scale_units='xy',scale=1)\n",
        "plt.quiver(0,0, R[0], R[1], angles='xy', scale_units='xy',scale=1)\n",
        "plt.show()"
      ],
      "metadata": {
        "colab": {
          "base_uri": "https://localhost:8080/",
          "height": 269
        },
        "id": "jav30D9ceFow",
        "outputId": "66830cf2-2a04-4d3e-a045-6f740de441ab"
      },
      "execution_count": 15,
      "outputs": [
        {
          "output_type": "display_data",
          "data": {
            "text/plain": [
              "<Figure size 432x288 with 1 Axes>"
            ],
            "image/png": "[encoded data removed]"
          },
          "metadata": {
            "needs_background": "light"
          }
        }
      ]
    },
    {
      "cell_type": "markdown",
      "source": [
        "Try plotting Three Vectors and show the Resultant Vector as a result.\n",
        "Use Head to Tail Method."
      ],
      "metadata": {
        "id": "5Icfgv7VeIAI"
      }
    },
    {
      "cell_type": "code",
      "source": [
        "apple = np.array ([0, -15])\n",
        "mango = np.array ([15, 5])\n",
        "orange = np.array ([-5, 12])\n",
        "R = apple + mango\n",
        "\n",
        "plt.title(\"Amazing Vector\")\n",
        "plt.xlim(-5, 20)\n",
        "plt.ylim(-20, 20)\n",
        "plt.quiver(0, 0, apple [0], apple[1], angles='xy', scale_units= 'xy', scale=1, color='red')\n",
        "plt.quiver(apple[0], apple[1], mango[0], mango[1], angles='xy', scale_units='xy', scale=1, color='green')\n",
        "plt.quiver(R[0], R[1], orange[0], orange[1], angles='xy', scale_units='xy', scale=1, color='blue')\n",
        "\n",
        "R2 = apple + mango + orange\n",
        "\n",
        "plt.quiver(0, 0, R2[0], R2[1], angles='xy', scale_units='xy', scale=1, color='black')\n",
        "plt.grid()\n",
        "plt.show()\n",
        "\n",
        "print(R)\n",
        "Mag = np.sqrt(np.sum(R**2))\n",
        "print(\"Magnitude:{} \".format(Mag))\n",
        "Slope= R[1]/R[0]\n",
        "print(\"Slope:{} \".format(Slope))\n",
        "Angle = (np.arctan(Slope))*(180/np.pi)\n",
        "print(\"The Angle is:{} \".format(Angle))"
      ],
      "metadata": {
        "colab": {
          "base_uri": "https://localhost:8080/",
          "height": 350
        },
        "id": "T2TCZgiZeJB_",
        "outputId": "01d0f01a-323e-4eb1-bec7-cd94e15d611b"
      },
      "execution_count": 16,
      "outputs": [
        {
          "output_type": "display_data",
          "data": {
            "text/plain": [
              "<Figure size 432x288 with 1 Axes>"
            ],
            "image/png": "[encoded data removed]"
          },
          "metadata": {
            "needs_background": "light"
          }
        },
        {
          "output_type": "stream",
          "name": "stdout",
          "text": [
            "[ 15 -10]\n",
            "Magnitude:18.027756377319946 \n",
            "Slope:-0.6666666666666666 \n",
            "The Angle is:-33.690067525979785 \n"
          ]
        }
      ]
    }
  ]
}