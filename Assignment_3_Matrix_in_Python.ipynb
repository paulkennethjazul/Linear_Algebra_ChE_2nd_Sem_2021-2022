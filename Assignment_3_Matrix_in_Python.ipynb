{
  "cells": [
    {
      "cell_type": "markdown",
      "metadata": {
        "id": "view-in-github",
        "colab_type": "text"
      },
      "source": [
        "<a href=\"https://colab.research.google.com/github/paulkennethjazul/Linear_Algebra_ChE_2nd_Sem_2021-2022/blob/main/Assignment_3_Matrix_in_Python.ipynb\" target=\"_parent\"><img src=\"https://colab.research.google.com/assets/colab-badge.svg\" alt=\"Open In Colab\"/></a>"
      ]
    },
    {
      "cell_type": "markdown",
      "metadata": {
        "id": "Ipft0yZPKbEj"
      },
      "source": [
        "#Linear Algebra for Che\n",
        "##Assignment 3 : Matrices"
      ]
    },
    {
      "cell_type": "markdown",
      "metadata": {
        "id": "m0dQofUnKmxB"
      },
      "source": [
        "### Objectives\n",
        "At the end of this activity you will be able to:\n",
        "1. Be familiar with matrices and their relation to linear equations.\n",
        "2. Perform basic matrix operations.\n",
        "3. Program and translate matrix equations and operations using Python.\n"
      ]
    },
    {
      "cell_type": "markdown",
      "metadata": {
        "id": "zOBeyyp-KzK6"
      },
      "source": [
        "# Discussion"
      ]
    },
    {
      "cell_type": "code",
      "execution_count": null,
      "metadata": {
        "id": "wc2WzIBCK3Ba"
      },
      "outputs": [],
      "source": [
        "import numpy as np\n",
        "import matplotlib.pyplot as plt\n",
        "import scipy.linalg as la\n",
        "%matplotlib inline\n"
      ]
    },
    {
      "cell_type": "markdown",
      "metadata": {
        "id": "Xwxu6snaLZrz"
      },
      "source": [
        "## Matrices\n",
        "\n",
        "The notation and use of matrices is probably one of the fundamentals of modern computing. Matrices are also handy representations of complex equations or multiple inter-related equations from 2-dimensional equations to even hundreds and thousands of them.\n",
        "\n",
        "Let's say for example you have  and  as system of equation."
      ]
    },
    {
      "cell_type": "markdown",
      "metadata": {
        "id": "Z14I_6sfL8R7"
      },
      "source": [
        "$$\n",
        "A = \\left\\{\n",
        "    \\begin{array}\\\n",
        "        4x + 20y \\\\ \n",
        "        10x - 10y\n",
        "    \\end{array}\n",
        "\\right. \\\\\n",
        "B = \\left\\{\n",
        "    \\begin{array}\\\n",
        "        11x+12y+13z \\\\ \n",
        "        5x -8y -9z \\\\\n",
        "        -55x + 44y +22z\n",
        "    \\end{array}\n",
        "\\right. \\\\\n",
        "C = \\left\\{\n",
        "  \\begin{array}\\\n",
        "  w - 21x + 35y - 45z \\\\\n",
        "  3w - 21x - 22y + 20z \\\\\n",
        "  2w - 9x + 10y - 11z\n",
        "  \\end{array}\n",
        "\\right. $$\n",
        "\n"
      ]
    },
    {
      "cell_type": "markdown",
      "metadata": {
        "id": "tPt5rNLJOdCR"
      },
      "source": [
        "$$\n",
        "A=\\begin{bmatrix} 1 & 1 \\\\ 4 & {-10}\\end{bmatrix} \\\\\n",
        "B=\\begin{bmatrix} 1 & 1 & 1 \\\\ 3 & -2 & -1 \\\\ -1 & 4 & 2\\end{bmatrix}\\\\\n",
        "C=\\begin{bmatrix} 1 & -2 & 3 & -4 \\\\ 3 & -1 & -2 & 1 \\\\ 2 & -1 & 3 & -2 \\end{bmatrix}\n",
        "$$\n",
        "\n",
        "\n"
      ]
    },
    {
      "cell_type": "markdown",
      "metadata": {
        "id": "E5LSvQdrRQBK"
      },
      "source": [
        "So assuming that you already discused the fundamental representation of matrices, their types, and operations. we'll proceed in doing them in here in Python"
      ]
    },
    {
      "cell_type": "markdown",
      "metadata": {
        "id": "e7nVNrtURL2z"
      },
      "source": [
        "We could see that A is a system of 2 equations with 2 parameters "
      ]
    },
    {
      "cell_type": "markdown",
      "metadata": {
        "id": "7WCGF5FlQEcc"
      },
      "source": [
        "## Declaring Matrices\n",
        "\n",
        "Just like our previous laboratory activity, we'll represent system of linear equations as a matrix. The entities or numbers in matrices are called the elements of a matrix. These elements are arranged and ordered in rows and columns which form the list/array-like structure of matrices. And just like arrays, these elements are indexed according to their position with respect to their rows and columns. This can be reprsented just like the equation below. Whereas A is a matrix consisting of elements denoted by . Denoted by  is the number of rows in the matrix while  stands for the number of columns.\n",
        "\n",
        "Do note that the  of a matrix is i x j ."
      ]
    },
    {
      "cell_type": "markdown",
      "metadata": {
        "id": "owvGalgwQNDB"
      },
      "source": [
        "$$A=\\begin{bmatrix}\n",
        "a_{(0,0)}&a_{(0,1)}&\\dots&a_{(0,j-1)}\\\\\n",
        "a_{(1,0)}&a_{(1,1)}&\\dots&a_{(1,j-1)}\\\\\n",
        "\\vdots&\\vdots&\\ddots&\\vdots&\\\\\n",
        "a_{(i-1,0)}&a_{(i-1,1)}&\\dots&a_{(i-1,j-1)}\n",
        "\\end{bmatrix}\n",
        "$$\n"
      ]
    },
    {
      "cell_type": "markdown",
      "metadata": {
        "id": "As2RYv-HQR3C"
      },
      "source": [
        "We already gone over some of the types of matrices as vectors but we'll further discuss them in this laboratory activity. Since you already know how to describe vectors using shape, dimensions and size attributes, we'll use them to analyze these matrices."
      ]
    },
    {
      "cell_type": "code",
      "execution_count": null,
      "metadata": {
        "id": "k547Xc0tQZiU"
      },
      "outputs": [],
      "source": [
        "## Since we'll keep on describing matrices. Lets make a function.\n",
        "def describe_mat(matrix):\n",
        "    print(f'Matrix:\\n{matrix}\\n\\nShape:\\t{matrix.shape}\\nRank:\\t{matrix.ndim}\\n')\n"
      ]
    },
    {
      "cell_type": "code",
      "execution_count": null,
      "metadata": {
        "colab": {
          "base_uri": "https://localhost:8080/"
        },
        "id": "TqurxRNGQtwN",
        "outputId": "609dea79-698d-47ac-a7a8-36b2030f2772"
      },
      "outputs": [
        {
          "name": "stdout",
          "output_type": "stream",
          "text": [
            "Matrix:\n",
            "[[1 2]\n",
            " [3 1]]\n",
            "\n",
            "Shape:\t(2, 2)\n",
            "Rank:\t2\n",
            "\n"
          ]
        }
      ],
      "source": [
        "## Declaring a 2 x 2 matrix\n",
        "A = np.array ([\n",
        "    [1, 2],\n",
        "    [3, 1]\n",
        "])\n",
        "describe_mat(A)"
      ]
    },
    {
      "cell_type": "code",
      "execution_count": null,
      "metadata": {
        "colab": {
          "base_uri": "https://localhost:8080/"
        },
        "id": "9tuN4f3ERVjS",
        "outputId": "da65bb69-fc56-44ad-8c2f-8b2f679ddc35"
      },
      "outputs": [
        {
          "name": "stdout",
          "output_type": "stream",
          "text": [
            "Matrix:\n",
            "[[1 1 3]\n",
            " [2 2 4]]\n",
            "\n",
            "Shape:\t(2, 3)\n",
            "Rank:\t2\n",
            "\n"
          ]
        }
      ],
      "source": [
        "##Declaring a 2 x 3 matrix\n",
        "G = np.array([\n",
        "    [1,1,3],\n",
        "    [2,2,4]\n",
        "])\n",
        "describe_mat(G)\n"
      ]
    },
    {
      "cell_type": "code",
      "execution_count": null,
      "metadata": {
        "colab": {
          "base_uri": "https://localhost:8080/"
        },
        "id": "EoAf0ZHBSWU6",
        "outputId": "9a1e360a-2f13-45d1-b27b-7626ada0e53a"
      },
      "outputs": [
        {
          "name": "stdout",
          "output_type": "stream",
          "text": [
            "Matrix:\n",
            "[[8 2]\n",
            " [5 4]\n",
            " [1 1]]\n",
            "\n",
            "Shape:\t(3, 2)\n",
            "Rank:\t2\n",
            "\n"
          ]
        }
      ],
      "source": [
        "##Declaring a 3 x 2 matrix\n",
        "B = np.array([\n",
        "    [8, 2],\n",
        "    [5, 4],\n",
        "    [1, 1]\n",
        "])\n",
        "describe_mat(B)\n"
      ]
    },
    {
      "cell_type": "code",
      "execution_count": null,
      "metadata": {
        "colab": {
          "base_uri": "https://localhost:8080/"
        },
        "id": "JcF2eC3wSiAr",
        "outputId": "3c77d48d-6105-41cf-af81-c2e3fac6da99"
      },
      "outputs": [
        {
          "name": "stdout",
          "output_type": "stream",
          "text": [
            "Matrix:\n",
            "[1 2 3 4]\n",
            "\n",
            "Shape:\t(4,)\n",
            "Rank:\t1\n",
            "\n"
          ]
        }
      ],
      "source": [
        "H = np.array([1,2,3,4])\n",
        "describe_mat(H)\n"
      ]
    },
    {
      "cell_type": "markdown",
      "metadata": {
        "id": "HDSVUaBNSwty"
      },
      "source": [
        "## Categorizing Matrices"
      ]
    },
    {
      "cell_type": "markdown",
      "metadata": {
        "id": "RF-zUexvTU0L"
      },
      "source": [
        "There are several ways of classifying matrices. Once could be according to their shape and another is according to their element values. We'll try to go through them"
      ]
    },
    {
      "cell_type": "markdown",
      "metadata": {
        "id": "MwnEZxDhTdsj"
      },
      "source": [
        "### According to shape"
      ]
    },
    {
      "cell_type": "markdown",
      "metadata": {
        "id": "UFw5zdKTThFa"
      },
      "source": [
        "#### Row and Column Matrices"
      ]
    },
    {
      "cell_type": "markdown",
      "metadata": {
        "id": "aDJFx1zeTqgK"
      },
      "source": [
        "Row and column are common in vector and matrix computations. They can also represent row and column spaces of a bigger vector space. Row and column spaces of a bigger vector space. Row and column matrices are represented by a single column or single row. So with that being, the shape of row matrices would be 1 x j  and column matrices would be i x 1 ."
      ]
    },
    {
      "cell_type": "code",
      "execution_count": null,
      "metadata": {
        "colab": {
          "base_uri": "https://localhost:8080/"
        },
        "id": "X5Hkx_MFTyC7",
        "outputId": "c03a662c-8baa-463d-86c0-0fc40a1931c2"
      },
      "outputs": [
        {
          "name": "stdout",
          "output_type": "stream",
          "text": [
            "Matrix:\n",
            "[ 1  3  2 -4]\n",
            "\n",
            "Shape:\t(4,)\n",
            "Rank:\t1\n",
            "\n",
            "Matrix:\n",
            "[[ 1  2  3 -4]]\n",
            "\n",
            "Shape:\t(1, 4)\n",
            "Rank:\t2\n",
            "\n"
          ]
        }
      ],
      "source": [
        "## Declaring a Row Matrix\n",
        "\n",
        "rowmatrix1D = np.array([\n",
        "    1, 3, 2, -4\n",
        "]) ## this is a 1-D Matrix with a shape of (3,), it's not really considered as a row matrix.\n",
        "row_mat_2D = np.array([\n",
        "    [1,2,3, -4]\n",
        "]) ## this is a 2-D Matrix with a shape of (1,3)\n",
        "describe_mat(rowmatrix1D)\n",
        "describe_mat(row_mat_2D)\n"
      ]
    },
    {
      "cell_type": "code",
      "execution_count": null,
      "metadata": {
        "colab": {
          "base_uri": "https://localhost:8080/"
        },
        "id": "DMIX6TjkUkV8",
        "outputId": "1930bc07-5325-4c56-c436-ae2bd8a0e439"
      },
      "outputs": [
        {
          "name": "stdout",
          "output_type": "stream",
          "text": [
            "Matrix:\n",
            "[[1]\n",
            " [2]\n",
            " [5]]\n",
            "\n",
            "Shape:\t(3, 1)\n",
            "Rank:\t2\n",
            "\n"
          ]
        }
      ],
      "source": [
        "##Declaring a Column Matrix\n",
        "col_mat = np.array([\n",
        "    [1],\n",
        "    [2],\n",
        "    [5]\n",
        "]) ## this is a 2-D Matrix with a shape of (3,1)\n",
        "describe_mat(col_mat)\n"
      ]
    },
    {
      "cell_type": "markdown",
      "metadata": {
        "id": "yq5tvBawVLHW"
      },
      "source": [
        "## Square Matrices\n",
        "\n",
        "Square matrices are matrices that have the same row and column sizes. We could say a matrix is square if i = j . We can tweak our matrix descriptor function to determine square matrices."
      ]
    },
    {
      "cell_type": "code",
      "execution_count": null,
      "metadata": {
        "id": "DyAphOnVVUrU"
      },
      "outputs": [],
      "source": [
        "def describe_mat(matrix):\n",
        "    is_square = True if matrix.shape[0] == matrix.shape[1] else False \n",
        "    print(f'Matrix:\\n{matrix}\\n\\nShape:\\t{matrix.shape}\\nRank:\\t{matrix.ndim}\\nIs Square: {is_square}\\n')\n"
      ]
    },
    {
      "cell_type": "code",
      "execution_count": null,
      "metadata": {
        "colab": {
          "base_uri": "https://localhost:8080/"
        },
        "id": "WD3NENkZVahe",
        "outputId": "9354b432-02ca-4e65-cad3-543fd715d861"
      },
      "outputs": [
        {
          "name": "stdout",
          "output_type": "stream",
          "text": [
            "Matrix:\n",
            "[[1 2 5]\n",
            " [3 3 8]\n",
            " [6 1 2]]\n",
            "\n",
            "Shape:\t(3, 3)\n",
            "Rank:\t2\n",
            "Is Square: True\n",
            "\n",
            "Matrix:\n",
            "[[1 2 5]\n",
            " [3 3 8]]\n",
            "\n",
            "Shape:\t(2, 3)\n",
            "Rank:\t2\n",
            "Is Square: False\n",
            "\n"
          ]
        }
      ],
      "source": [
        "square_mat = np.array([\n",
        "    [1,2,5],\n",
        "    [3,3,8],\n",
        "    [6,1,2]\n",
        "])\n",
        "\n",
        "non_square_mat = np.array([\n",
        "    [1,2,5],\n",
        "    [3,3,8]\n",
        "])\n",
        "describe_mat(square_mat)\n",
        "describe_mat(non_square_mat)\n"
      ]
    },
    {
      "cell_type": "markdown",
      "metadata": {
        "id": "gxtWhkHJWIKT"
      },
      "source": [
        "### According to element values"
      ]
    },
    {
      "cell_type": "markdown",
      "metadata": {
        "id": "3kSolTurWMa8"
      },
      "source": [
        "### Null matrix\n",
        "A Null Matrix is a matrix that has no elements. It is always a subspace of any vector or matrix."
      ]
    },
    {
      "cell_type": "code",
      "execution_count": null,
      "metadata": {
        "id": "gAHL2AyvWPxf"
      },
      "outputs": [],
      "source": [
        "def describe_mat(matrix):\n",
        "    if matrix.size > 1:\n",
        "        is_square = False if matrix.shape[0] < matrix.shape[1] else False \n",
        "        print(f'Matrix:\\n{matrix}\\n\\nShape:\\t{matrix.shape}\\nRank:\\t{matrix.ndim}\\nIs Square: {is_square}\\n')\n",
        "    else:\n",
        "        print('Matrix is Null')\n"
      ]
    },
    {
      "cell_type": "code",
      "execution_count": null,
      "metadata": {
        "colab": {
          "base_uri": "https://localhost:8080/"
        },
        "id": "pim78u8SWV3t",
        "outputId": "c2443940-25d7-4838-d190-5a579d49f7bb"
      },
      "outputs": [
        {
          "name": "stdout",
          "output_type": "stream",
          "text": [
            "Matrix is Null\n"
          ]
        }
      ],
      "source": [
        "null_mat = np.array([])\n",
        "describe_mat(null_mat)"
      ]
    },
    {
      "cell_type": "markdown",
      "metadata": {
        "id": "0GvPN6lPW7Fj"
      },
      "source": [
        "### Zero Matrix\n",
        "\n",
        "A zero matrix can be any rectangular matrix but with all elements having a value of 0."
      ]
    },
    {
      "cell_type": "code",
      "execution_count": null,
      "metadata": {
        "colab": {
          "base_uri": "https://localhost:8080/"
        },
        "id": "AfyeTka1XQV1",
        "outputId": "223dafa8-7202-40cc-9371-6faf956e5a38"
      },
      "outputs": [
        {
          "name": "stdout",
          "output_type": "stream",
          "text": [
            "Zero Row Matrix: \n",
            "[[0.]]\n",
            "Zero Square Matrix: \n",
            "[[0. 0. 0.]\n",
            " [0. 0. 0.]\n",
            " [0. 0. 0.]]\n",
            "Zero Rectangular Matrix: \n",
            "[[0. 0. 0. 0.]\n",
            " [0. 0. 0. 0.]\n",
            " [0. 0. 0. 0.]\n",
            " [0. 0. 0. 0.]]\n"
          ]
        }
      ],
      "source": [
        "zero_mat_row = np.zeros((1,1))\n",
        "zero_mat_sqr = np.zeros((3,3))\n",
        "zero_mat_rct = np.zeros((4,4))\n",
        "\n",
        "print(f'Zero Row Matrix: \\n{zero_mat_row}')\n",
        "print(f'Zero Square Matrix: \\n{zero_mat_sqr}')\n",
        "print(f'Zero Rectangular Matrix: \\n{zero_mat_rct}')\n"
      ]
    },
    {
      "cell_type": "markdown",
      "metadata": {
        "id": "4Jsjkpp1XrI8"
      },
      "source": [
        "### Ones Matrix\n",
        "A ones matrix, just like the zero matrix, can be any rectangular matrix but all of its elements are 1s instead of 0s."
      ]
    },
    {
      "cell_type": "code",
      "execution_count": null,
      "metadata": {
        "colab": {
          "base_uri": "https://localhost:8080/"
        },
        "id": "7dJHAVm6XtCl",
        "outputId": "dc94d030-987b-41e7-a5a2-cc58bdc043e6"
      },
      "outputs": [
        {
          "name": "stdout",
          "output_type": "stream",
          "text": [
            "Ones Row Matrix: \n",
            "[[1. 1. 1.]]\n",
            "Ones Square Matrix: \n",
            "[[1. 1. 1.]\n",
            " [1. 1. 1.]]\n",
            "Ones Rectangular Matrix: \n",
            "[[1. 1. 1. 1.]\n",
            " [1. 1. 1. 1.]\n",
            " [1. 1. 1. 1.]\n",
            " [1. 1. 1. 1.]]\n"
          ]
        }
      ],
      "source": [
        "ones_mat_row = np.ones((1,3))\n",
        "ones_mat_sqr = np.ones((2,3))\n",
        "ones_mat_rct = np.ones((4,4))\n",
        "\n",
        "print(f'Ones Row Matrix: \\n{ones_mat_row}')\n",
        "print(f'Ones Square Matrix: \\n{ones_mat_sqr}')\n",
        "print(f'Ones Rectangular Matrix: \\n{ones_mat_rct}')\n"
      ]
    },
    {
      "cell_type": "markdown",
      "metadata": {
        "id": "YeEM1LzfX5EE"
      },
      "source": [
        "### DIagonal Matrix\n",
        "\n",
        "A diagonal matrix is a square matrix that has values only at the diagonal of the matrix."
      ]
    },
    {
      "cell_type": "code",
      "execution_count": null,
      "metadata": {
        "colab": {
          "base_uri": "https://localhost:8080/"
        },
        "id": "vAHqPXRnX9eE",
        "outputId": "00dff0f6-a0c1-4f50-ed19-c4f0599eb8db"
      },
      "outputs": [
        {
          "data": {
            "text/plain": [
              "array([2, 3, 5])"
            ]
          },
          "execution_count": 75,
          "metadata": {},
          "output_type": "execute_result"
        }
      ],
      "source": [
        "np.diag([\n",
        "    [2,0,0],\n",
        "    [0,3,0],\n",
        "    [0,0,5]\n",
        "])"
      ]
    },
    {
      "cell_type": "markdown",
      "metadata": {
        "id": "GKRHI1OoYu3-"
      },
      "source": [
        "### Identity Matrix\n",
        "\n",
        "An identity matrix is a special diagonal matrix in which the values at the diagonal are ones."
      ]
    },
    {
      "cell_type": "code",
      "execution_count": null,
      "metadata": {
        "colab": {
          "base_uri": "https://localhost:8080/"
        },
        "id": "46jjnESoY3EV",
        "outputId": "e381dbd8-7c71-4f44-ebc8-fb305f716ffd"
      },
      "outputs": [
        {
          "data": {
            "text/plain": [
              "array([[1., 0., 0.],\n",
              "       [0., 1., 0.],\n",
              "       [0., 0., 1.]])"
            ]
          },
          "execution_count": 76,
          "metadata": {},
          "output_type": "execute_result"
        }
      ],
      "source": [
        "np.eye(3)"
      ]
    },
    {
      "cell_type": "code",
      "execution_count": null,
      "metadata": {
        "colab": {
          "base_uri": "https://localhost:8080/"
        },
        "id": "T1KuC80rZGSc",
        "outputId": "0dbeabe4-0c6b-4a52-a48c-df719ea46153"
      },
      "outputs": [
        {
          "data": {
            "text/plain": [
              "array([[1., 0., 0., 0.],\n",
              "       [0., 1., 0., 0.],\n",
              "       [0., 0., 1., 0.],\n",
              "       [0., 0., 0., 1.]])"
            ]
          },
          "execution_count": 77,
          "metadata": {},
          "output_type": "execute_result"
        }
      ],
      "source": [
        "np.identity(4)\n"
      ]
    },
    {
      "cell_type": "markdown",
      "metadata": {
        "id": "H0rmWxD8ZMN0"
      },
      "source": [
        "### Upper Triangular Matrix\n",
        "\n",
        "An upper triangular matrix is a matrix that has no values below the diagonal."
      ]
    },
    {
      "cell_type": "code",
      "execution_count": null,
      "metadata": {
        "colab": {
          "base_uri": "https://localhost:8080/"
        },
        "id": "rbdXyAhCZPqD",
        "outputId": "6b1d11b2-916d-472c-b34a-86f591dd512a"
      },
      "outputs": [
        {
          "data": {
            "text/plain": [
              "array([[ 1,  2,  3,  4],\n",
              "       [ 0,  3,  1, -1],\n",
              "       [ 0,  0,  5,  2],\n",
              "       [ 0,  0,  0,  2]])"
            ]
          },
          "execution_count": 78,
          "metadata": {},
          "output_type": "execute_result"
        }
      ],
      "source": [
        "P = np.array([\n",
        "    [1,2,3,4],\n",
        "    [1,3,1,-1],\n",
        "    [1,1,5,2],\n",
        "    [1,1,1,2]\n",
        "])\n",
        "np.triu(P)"
      ]
    },
    {
      "cell_type": "code",
      "execution_count": null,
      "metadata": {
        "colab": {
          "base_uri": "https://localhost:8080/"
        },
        "id": "ZJXCVSBJZxQm",
        "outputId": "05d391a9-48aa-4e55-f0ae-8cf4aa617d3e"
      },
      "outputs": [
        {
          "data": {
            "text/plain": [
              "array([[ 2, -3,  4, -5,  6],\n",
              "       [ 0, -3,  4, -5,  6],\n",
              "       [ 0,  0,  4, -5,  6],\n",
              "       [ 0,  0,  0, -5,  6],\n",
              "       [ 0,  0,  0,  0,  6]])"
            ]
          },
          "execution_count": 79,
          "metadata": {},
          "output_type": "execute_result"
        }
      ],
      "source": [
        "F = np.array([\n",
        "              [2, -3, 4, -5, 6],\n",
        "              [2, -3, 4, -5, 6],\n",
        "              [2, -3, 4, -5, 6],\n",
        "              [2, -3, 4, -5, 6],\n",
        "              [2, -3, 4, -5, 6],\n",
        "])\n",
        "np.triu(F)\n"
      ]
    },
    {
      "cell_type": "markdown",
      "metadata": {
        "id": "PHIVnI_waGMd"
      },
      "source": [
        "###Lower Triangular Matrix\n",
        "\n",
        "A lower triangular matrix is a matrix that has no values above the diagonal."
      ]
    },
    {
      "cell_type": "code",
      "execution_count": null,
      "metadata": {
        "colab": {
          "base_uri": "https://localhost:8080/"
        },
        "id": "vqRjPnL2aeB4",
        "outputId": "e8111c1d-b1a1-41a0-86fd-322c04946dac"
      },
      "outputs": [
        {
          "data": {
            "text/plain": [
              "array([[ 2,  0,  0,  0,  0],\n",
              "       [ 2, -3,  0,  0,  0],\n",
              "       [ 2, -3,  4,  0,  0],\n",
              "       [ 2, -3,  4, -5,  0],\n",
              "       [ 2, -3,  4, -5,  6]])"
            ]
          },
          "execution_count": 80,
          "metadata": {},
          "output_type": "execute_result"
        }
      ],
      "source": [
        "E = np.array([\n",
        "              [2, -3, 4, -5, 6],\n",
        "              [2, -3, 4, -5, 6],\n",
        "              [2, -3, 4, -5, 6],\n",
        "              [2, -3, 4, -5, 6],\n",
        "              [2, -3, 4, -5, 6],\n",
        "])\n",
        "np.tril(E)\n"
      ]
    },
    {
      "cell_type": "code",
      "execution_count": null,
      "metadata": {
        "colab": {
          "base_uri": "https://localhost:8080/"
        },
        "id": "-PPZ-vEKaJcN",
        "outputId": "87f92c81-7cda-4307-d0e4-a4ef31786e1d"
      },
      "outputs": [
        {
          "data": {
            "text/plain": [
              "array([[1, 0, 0],\n",
              "       [5, 3, 0],\n",
              "       [7, 8, 9]])"
            ]
          },
          "execution_count": 81,
          "metadata": {},
          "output_type": "execute_result"
        }
      ],
      "source": [
        "G = np.array([\n",
        "   [1,0,0],\n",
        "   [5,3,0],\n",
        "   [7,8,9]\n",
        "])\n",
        "np.tril(G)"
      ]
    },
    {
      "cell_type": "markdown",
      "metadata": {
        "id": "bFvRVfRLa4Zf"
      },
      "source": [
        "###Practice"
      ]
    },
    {
      "cell_type": "markdown",
      "metadata": {
        "id": "zSWcEeiXa7S9"
      },
      "source": [
        "1. Given the linear combination below, try to create a corresponding matrix representing it.\n"
      ]
    },
    {
      "cell_type": "markdown",
      "metadata": {
        "id": "hJdCEQ2EbARG"
      },
      "source": [
        ":$$\\theta = 10x + 66y - 99z$$\n"
      ]
    },
    {
      "cell_type": "markdown",
      "metadata": {
        "id": "Bf5G4cudbDlv"
      },
      "source": [
        "2. Given the system of linear combinations below, try to encode it as a matrix. Also describe the matrix.\n"
      ]
    },
    {
      "cell_type": "markdown",
      "metadata": {
        "id": "jzrYXlLybFZ0"
      },
      "source": [
        "$$\n",
        "A = \\left\\{\\begin{array}\n",
        "55x_1 + 4x_2 +2x_3\\\\\n",
        "6x_2 - 5x_3\\\\\n",
        "20x_3\n",
        "\\end{array}\\right.\n",
        "$$\n"
      ]
    },
    {
      "cell_type": "markdown",
      "metadata": {
        "id": "TOH3ldzEbHwH"
      },
      "source": [
        "3. Given the matrix below, express it as a linear combination in a markdown and a LaTeX markdown\n"
      ]
    },
    {
      "cell_type": "code",
      "execution_count": null,
      "metadata": {
        "colab": {
          "base_uri": "https://localhost:8080/"
        },
        "id": "Jvq19IxkbO2-",
        "outputId": "14445684-1467-47a9-d10d-9484d1efb64a"
      },
      "outputs": [
        {
          "data": {
            "text/plain": [
              "array([[1, 7, 8],\n",
              "       [2, 2, 2],\n",
              "       [4, 6, 7]])"
            ]
          },
          "execution_count": 82,
          "metadata": {},
          "output_type": "execute_result"
        }
      ],
      "source": [
        "G = np.array([\n",
        "    [1,7,8],\n",
        "    [2,2,2],\n",
        "    [4,6,7]\n",
        "])\n",
        "G"
      ]
    },
    {
      "cell_type": "markdown",
      "metadata": {
        "id": "YmBRS5C5bRku"
      },
      "source": [
        "4. Given the matrix below, display the output as a LaTeX markdown also express it as a system of linear combinations.\n"
      ]
    },
    {
      "cell_type": "code",
      "execution_count": null,
      "metadata": {
        "colab": {
          "base_uri": "https://localhost:8080/"
        },
        "id": "clbhvKlNbUgu",
        "outputId": "f8df0961-f636-4c87-980d-ccac39f8fa63"
      },
      "outputs": [
        {
          "data": {
            "text/plain": [
              "array([[1, 0, 0],\n",
              "       [2, 2, 0],\n",
              "       [4, 6, 7]])"
            ]
          },
          "execution_count": 83,
          "metadata": {},
          "output_type": "execute_result"
        }
      ],
      "source": [
        "H = np.tril(G)\n",
        "H\n"
      ]
    },
    {
      "cell_type": "markdown",
      "metadata": {
        "id": "WxvXJceNbZbV"
      },
      "source": [
        "###Addition"
      ]
    },
    {
      "cell_type": "code",
      "execution_count": null,
      "metadata": {
        "colab": {
          "base_uri": "https://localhost:8080/"
        },
        "id": "JxfmZ4PEbdMk",
        "outputId": "bc443ff2-8d88-4863-891d-9f88f0fd0808"
      },
      "outputs": [
        {
          "data": {
            "text/plain": [
              "array([[ 8,  7,  7],\n",
              "       [11, 12, 14],\n",
              "       [10, 14, 17]])"
            ]
          },
          "execution_count": 84,
          "metadata": {},
          "output_type": "execute_result"
        }
      ],
      "source": [
        "A = np.array ([\n",
        "    [6,2,4],\n",
        "    [5,3,8],\n",
        "    [3,6,8] \n",
        "])\n",
        "B = np.array([\n",
        "    [2,5,3],\n",
        "    [6,9,6],\n",
        "    [7,8,9]\n",
        "])\n",
        "A+B"
      ]
    },
    {
      "cell_type": "markdown",
      "metadata": {
        "id": "-OwBhkbmb3mC"
      },
      "source": [
        "### Substraction\n"
      ]
    },
    {
      "cell_type": "code",
      "execution_count": null,
      "metadata": {
        "colab": {
          "base_uri": "https://localhost:8080/"
        },
        "id": "Gjnl6GOgcljX",
        "outputId": "9a0fc98c-267f-4f4f-c0fd-6372f5b7b813"
      },
      "outputs": [
        {
          "data": {
            "text/plain": [
              "array([[-2, -5, -3],\n",
              "       [-6, -9, -6],\n",
              "       [-7, -8, -9]])"
            ]
          },
          "execution_count": 85,
          "metadata": {},
          "output_type": "execute_result"
        }
      ],
      "source": [
        "A-B-A\n"
      ]
    },
    {
      "cell_type": "code",
      "execution_count": null,
      "metadata": {
        "colab": {
          "base_uri": "https://localhost:8080/"
        },
        "id": "qezhqUpkcm-l",
        "outputId": "c7d72c52-3760-41c9-83da-74ce7f6a4a62"
      },
      "outputs": [
        {
          "data": {
            "text/plain": [
              "array([[ 3,  0,  2],\n",
              "       [-1, -4, -1],\n",
              "       [-2, -3, -4]])"
            ]
          },
          "execution_count": 86,
          "metadata": {},
          "output_type": "execute_result"
        }
      ],
      "source": [
        "5-B\n"
      ]
    },
    {
      "cell_type": "markdown",
      "metadata": {
        "id": "cZnxw6e1b5Yf"
      },
      "source": [
        "### Multiplication"
      ]
    },
    {
      "cell_type": "code",
      "execution_count": null,
      "metadata": {
        "colab": {
          "base_uri": "https://localhost:8080/"
        },
        "id": "yPhxSPXPcoVN",
        "outputId": "d5ad17c7-be97-480e-d561-54c11865279b"
      },
      "outputs": [
        {
          "data": {
            "text/plain": [
              "array([[12, 10, 12],\n",
              "       [30, 27, 48],\n",
              "       [21, 48, 72]])"
            ]
          },
          "execution_count": 87,
          "metadata": {},
          "output_type": "execute_result"
        }
      ],
      "source": [
        "A*B\n"
      ]
    },
    {
      "cell_type": "markdown",
      "metadata": {
        "id": "AC62oIB0lR-d"
      },
      "source": [
        "###Element wise multiplication"
      ]
    },
    {
      "cell_type": "code",
      "execution_count": null,
      "metadata": {
        "colab": {
          "base_uri": "https://localhost:8080/"
        },
        "id": "2-DHFtawcp5l",
        "outputId": "77ca55d0-ec4d-4c04-bd49-525b7fcf2e6d"
      },
      "outputs": [
        {
          "data": {
            "text/plain": [
              "array([[12, 10, 12],\n",
              "       [30, 27, 48],\n",
              "       [21, 48, 72]])"
            ]
          },
          "execution_count": 88,
          "metadata": {},
          "output_type": "execute_result"
        }
      ],
      "source": [
        "np.multiply(A,B)\n"
      ]
    },
    {
      "cell_type": "markdown",
      "metadata": {
        "id": "RD1DpxFJmYgl"
      },
      "source": [
        "###Element wise division"
      ]
    },
    {
      "cell_type": "code",
      "execution_count": null,
      "metadata": {
        "colab": {
          "base_uri": "https://localhost:8080/"
        },
        "id": "Dbti2WvUmbOG",
        "outputId": "29f68ff9-2e81-40f6-f0e5-f664e1795b53"
      },
      "outputs": [
        {
          "data": {
            "text/plain": [
              "array([[3.        , 0.4       , 1.33333333],\n",
              "       [0.83333333, 0.33333333, 1.33333333],\n",
              "       [0.42857143, 0.75      , 0.88888889]])"
            ]
          },
          "execution_count": 89,
          "metadata": {},
          "output_type": "execute_result"
        }
      ],
      "source": [
        "np.divide(A,B)"
      ]
    },
    {
      "cell_type": "markdown",
      "metadata": {
        "id": "6cp2v5mEZpfN"
      },
      "source": [
        "#Task 1\n",
        "\n",
        "Create a function named mat_desc() that througouhly describes a matrix, it should:\n",
        "\n",
        "Displays the shape, size, and rank of the matrix.\n",
        "\n",
        "Displays whether the matrix is square or non-square.\n",
        "\n",
        "Displays whether the matrix is an empty matrix.\n",
        "\n",
        "Displays if the matrix is an identity, ones, or zeros matrix\n",
        "\n",
        "\n",
        "Use 5 sample matrices in which their shapes are not lower than . In your methodology, create a flowchart discuss the functions and methods you have done. Present your results in the results section showing the description of each matrix you have declared."
      ]
    },
    {
      "cell_type": "code",
      "execution_count": null,
      "metadata": {
        "id": "yRxMtHiBZrk2"
      },
      "outputs": [],
      "source": [
        "## Function Area\n",
        "def mat_desc(mat):\n",
        "    sq = False\n",
        "    mat = np.array(mat)\n",
        "    print(mat)\n",
        "    print('Shape:', mat.shape)\n",
        "    print('Size:', mat.size)\n",
        "    print('Rank:', np.linalg.matrix_rank(mat))\n",
        "    if(mat.shape[0] == mat.shape[1]):\n",
        "        sq = True\n",
        "        print('The matrix is square')\n",
        "    else:\n",
        "        print('The matrix is non-square')\n",
        "    if(mat.shape[0] == 0 and mat.shape[1] == 0):\n",
        "        print('The matrix is empty')\n",
        "    else:\n",
        "        print('The matrix is not empty')\n",
        "    iden = np.identity(mat.shape[0])\n",
        "    if(sq and (iden == mat).all()):\n",
        "        print('The matrix is an identity matrix')\n",
        "    else:\n",
        "        print('The matrix is not an identity matrix')\n",
        "    one = np.ones((mat.shape[0], mat.shape[1]))\n",
        "    if((one == mat).all()):\n",
        "        print('The matrix is an ones matrix')\n",
        "    else:\n",
        "        print('The matrix is not an ones matrix')\n",
        "    zero = np.zeros((mat.shape[0], mat.shape[1]))\n",
        "    if((zero == mat).all()):\n",
        "        print('The matrix is an zeros matrix')\n",
        "    else:\n",
        "        print('The matrix is not a zeros matrix')"
      ]
    },
    {
      "cell_type": "code",
      "execution_count": null,
      "metadata": {
        "id": "5A6ebTtLacXk"
      },
      "outputs": [],
      "source": [
        "## Matrix Declarations\n",
        "\n",
        "Q = np.array([\n",
        "    [3,4,6],\n",
        "    [7,8,9],\n",
        "    [2,3,1]          \n",
        "])\n",
        "\n",
        "G = np.array([\n",
        "    [4,5,7],\n",
        "    [8,9,6],\n",
        "    [2,3,1]        \n",
        "])\n",
        "\n",
        "\n",
        "P = np.array([\n",
        "    [1,1,1],\n",
        "    [1,1,1],\n",
        "    [1,1,1]        \n",
        "])\n",
        "\n",
        "Z = np.array([\n",
        "    [3,3,3],\n",
        "    [3,3,3],\n",
        "    [3,3,3]           \n",
        "])\n",
        "\n",
        "I = np.array([\n",
        "    [0,0,0],\n",
        "    [0,0,0],\n",
        "    [0,0,0],\n",
        "              \n",
        "])\n",
        "\n",
        "T = np.array([\n",
        "    [1., 0., 0.],\n",
        "    [0., 1., 0.],\n",
        "    [0., 0., 1.]\n",
        "])"
      ]
    },
    {
      "cell_type": "code",
      "execution_count": null,
      "metadata": {
        "colab": {
          "base_uri": "https://localhost:8080/"
        },
        "id": "AXRBkxRxgXZ2",
        "outputId": "898453b3-9afd-4cbc-f00c-54c726aa3130"
      },
      "outputs": [
        {
          "name": "stdout",
          "output_type": "stream",
          "text": [
            "[[3 4 6]\n",
            " [7 8 9]\n",
            " [2 3 1]]\n",
            "Shape: (3, 3)\n",
            "Size: 9\n",
            "Rank: 3\n",
            "The matrix is square\n",
            "The matrix is not empty\n",
            "The matrix is not an identity matrix\n",
            "The matrix is not an ones matrix\n",
            "The matrix is not a zeros matrix\n",
            "[[4 5 7]\n",
            " [8 9 6]\n",
            " [2 3 1]]\n",
            "Shape: (3, 3)\n",
            "Size: 9\n",
            "Rank: 3\n",
            "The matrix is square\n",
            "The matrix is not empty\n",
            "The matrix is not an identity matrix\n",
            "The matrix is not an ones matrix\n",
            "The matrix is not a zeros matrix\n",
            "[[1 1 1]\n",
            " [1 1 1]\n",
            " [1 1 1]]\n",
            "Shape: (3, 3)\n",
            "Size: 9\n",
            "Rank: 1\n",
            "The matrix is square\n",
            "The matrix is not empty\n",
            "The matrix is not an identity matrix\n",
            "The matrix is an ones matrix\n",
            "The matrix is not a zeros matrix\n",
            "[[3 3 3]\n",
            " [3 3 3]\n",
            " [3 3 3]]\n",
            "Shape: (3, 3)\n",
            "Size: 9\n",
            "Rank: 1\n",
            "The matrix is square\n",
            "The matrix is not empty\n",
            "The matrix is not an identity matrix\n",
            "The matrix is not an ones matrix\n",
            "The matrix is not a zeros matrix\n",
            "[[0 0 0]\n",
            " [0 0 0]\n",
            " [0 0 0]]\n",
            "Shape: (3, 3)\n",
            "Size: 9\n",
            "Rank: 0\n",
            "The matrix is square\n",
            "The matrix is not empty\n",
            "The matrix is not an identity matrix\n",
            "The matrix is not an ones matrix\n",
            "The matrix is an zeros matrix\n",
            "[[1. 0. 0.]\n",
            " [0. 1. 0.]\n",
            " [0. 0. 1.]]\n",
            "Shape: (3, 3)\n",
            "Size: 9\n",
            "Rank: 3\n",
            "The matrix is square\n",
            "The matrix is not empty\n",
            "The matrix is an identity matrix\n",
            "The matrix is not an ones matrix\n",
            "The matrix is not a zeros matrix\n"
          ]
        }
      ],
      "source": [
        "##Test Areas\n",
        "\n",
        "mat_desc(Q)\n",
        "\n",
        "mat_desc(G)\n",
        "\n",
        "mat_desc(P)\n",
        "\n",
        "mat_desc(Z)\n",
        "\n",
        "mat_desc(I)\n",
        "\n",
        "mat_desc(T)"
      ]
    },
    {
      "cell_type": "markdown",
      "metadata": {
        "id": "qzHNtb5daQlG"
      },
      "source": [
        "#Task 2\n",
        "\n",
        "Create a function named mat_operations() that takes in two matrices a input parameters it should:\n",
        "\n",
        "Determines if the matrices are viable for operation and returns your own error message if they are not viable.\n",
        "\n",
        "Returns the sum of the matrices.\n",
        "\n",
        "Returns the difference of the matrices.\n",
        "\n",
        "Returns the element-wise multiplication of the matrices.\n",
        "\n",
        "Returns the element-wise division of the matrices.\n",
        "\n",
        "Use 5 sample matrices in which their shapes are not lower than . In your methodology, create a flowchart discuss the functions and methods you have done. Present your results in the results section showing the description of each matrix you have declared."
      ]
    },
    {
      "cell_type": "code",
      "execution_count": null,
      "metadata": {
        "id": "I8CWUKxXCw5v"
      },
      "outputs": [],
      "source": [
        "def mat_operations(matrix):\n",
        "  print (f'{matrix}')"
      ]
    },
    {
      "cell_type": "code",
      "execution_count": null,
      "metadata": {
        "id": "FhHxZt5ApPkW"
      },
      "outputs": [],
      "source": [
        "import numpy as np\n",
        "import matplotlib.pyplot as plt\n",
        "import scipy.linalg as la\n",
        "%matplotlib inline"
      ]
    },
    {
      "cell_type": "code",
      "execution_count": 101,
      "metadata": {
        "colab": {
          "base_uri": "https://localhost:8080/"
        },
        "id": "Dldz0GpFaSMc",
        "outputId": "f1204e5d-c683-45bf-e5f5-03b8cb5fbc5b"
      },
      "outputs": [
        {
          "output_type": "stream",
          "name": "stdout",
          "text": [
            "enter the row number of the first matrix: 2\n",
            "enter the column number of the first matrix: 2\n",
            "enter 4 elements for matrix 1: \n",
            "2 2 2 2\n",
            "matrix 1 is: \n",
            "[[2 2]\n",
            " [2 2]]\n",
            "\n",
            "enter the row number of the second matrix: 2\n",
            "enter the column number of the second matrix: 2\n",
            "enter 4 elements for matrix 2: \n",
            "2 2 2 2\n",
            "matrix 2 is: \n",
            "[[2 2]\n",
            " [2 2]]\n",
            "\n",
            "enter the row number of the third matrix: 2\n",
            "enter the column number of the third matrix: 2\n",
            "enter 4 elements for matrix 3: \n",
            "2 2 2 2\n",
            "matrix 3 is: \n",
            "[[2 2]\n",
            " [2 2]]\n",
            "\n",
            "select two matrices to to add. (Note: use first, second, third, to select the matrices)\n",
            "matrix #: first + second\n",
            "+\n",
            "matrix #: second + third\n",
            "\n",
            "The sum of the first + second and second + third matrix is: \n",
            "[[8 8]\n",
            " [8 8]]\n",
            "\n",
            "select two matrices to to subtract\n",
            "matrix #: first\n",
            "-\n",
            "matrix #: second\n",
            "\n",
            "The difference of the first and second matrix is: \n",
            "[[0 0]\n",
            " [0 0]]\n",
            "\n",
            "select two matrices to multiply\n",
            "matrix #: first\n",
            "x\n",
            "matrix #: second\n",
            "\n",
            "The product of the first and second matrix is: \n",
            "[[4 4]\n",
            " [4 4]]\n",
            "\n",
            "select two matrices to divide\n",
            "matrix #: first\n",
            "/\n",
            "matrix #: second\n",
            "\n",
            "The product of the first and second matrix is: \n",
            "[[1. 1.]\n",
            " [1. 1.]]\n"
          ]
        }
      ],
      "source": [
        "## Matrix 1\n",
        "row1 = int(input(\"enter the row number of the first matrix: \" ))\n",
        "col1 = int(input(\"enter the column number of the first matrix: \"))\n",
        "\n",
        "print('enter', row1*col1, 'elements for matrix 1: ')\n",
        "matrix1 = list(map(int, input().split()))\n",
        "r_matrix1 = np.array(matrix1).reshape(row1,col1)\n",
        "print(\"matrix 1 is: \")\n",
        "mat_operations(r_matrix1)\n",
        "\n",
        "## Matrix 2\n",
        "row2 = int(input(\"\\nenter the row number of the second matrix: \" ))\n",
        "col2 = int(input(\"enter the column number of the second matrix: \"))\n",
        "\n",
        "print('enter', row2*col2, 'elements for matrix 2: ')\n",
        "matrix2 = list(map(int, input().split()))\n",
        "r_matrix2 = np.array(matrix2).reshape(row2,col2)\n",
        "print(\"matrix 2 is: \")\n",
        "mat_operations(r_matrix2)\n",
        "\n",
        "## Matrix 3\n",
        "row3 = int(input(\"\\nenter the row number of the third matrix: \" ))\n",
        "col3 = int(input(\"enter the column number of the third matrix: \"))\n",
        "\n",
        "print('enter', row3*col3, 'elements for matrix 3: ')\n",
        "matrix3 = list(map(int, input().split()))\n",
        "r_matrix3 = np.array(matrix3).reshape(row3,col3)\n",
        "print(\"matrix 3 is: \")\n",
        "mat_operations(r_matrix3)\n",
        "\n",
        "first = r_matrix1\n",
        "second = r_matrix2\n",
        "third = r_matrix3\n",
        "### ADDITION ----------------------------------------------------------------\n",
        "print('\\nselect two matrices to to add. (Note: use first, second, third, to select the matrices)')\n",
        "firstadd = str(input(\"matrix #: \"))\n",
        "print('+') \n",
        "secondadd =str(input(\"matrix #: \"))\n",
        "\n",
        "result = (eval(firstadd).shape == eval(secondadd).shape)\n",
        "if result:\n",
        "  print('\\nThe sum of the',firstadd,'and',secondadd,'matrix is: ')\n",
        "  print(eval(firstadd)+eval(secondadd))\n",
        "else:\n",
        "  print('\\nOperation not viable, check matrix dimensions.') \n",
        "\n",
        "###SUBTRACTION--------------------------------------------------------------\n",
        "print('\\nselect two matrices to to subtract')\n",
        "firstsubb = str(input(\"matrix #: \")) \n",
        "print('-') \n",
        "secondsubb =str(input(\"matrix #: \"))\n",
        "\n",
        "result = (eval(firstsubb).shape == eval(secondsubb).shape)\n",
        "if result:\n",
        "  print('\\nThe difference of the',firstsubb,'and',secondsubb,'matrix is: ')\n",
        "  print(eval(firstsubb)-eval(secondsubb))\n",
        "else:\n",
        "  print('\\nOperation not viable, check matrix dimensions.') \n",
        "\n",
        "###ELEMENT-WISE MULTIPLICATION----------------------------------------------\n",
        "print('\\nselect two matrices to multiply')\n",
        "firstmult = str(input(\"matrix #: \"))\n",
        "print('x') \n",
        "secondmult =str(input(\"matrix #: \"))\n",
        "\n",
        "result = (eval(firstmult).shape == eval(secondmult).shape)\n",
        "if result:\n",
        "  print('\\nThe product of the',firstmult,'and',secondmult,'matrix is: ')\n",
        "  print(eval(firstmult)*eval(secondmult))\n",
        "else:\n",
        "  print('\\nOperation not viable, check matrix dimensions.') \n",
        "\n",
        "### ELEMENT-WISE DIVISION --------------------------------------------------\n",
        "print('\\nselect two matrices to divide')\n",
        "firstdiv = str(input(\"matrix #: \"))\n",
        "print('/')\n",
        "seconddiv =str(input(\"matrix #: \"))\n",
        "\n",
        "result = (eval(firstdiv).shape == eval(seconddiv).shape)\n",
        "if result:\n",
        "  print('\\nThe product of the',firstdiv,'and',seconddiv,'matrix is: ')\n",
        "  print(eval(firstdiv)/eval(seconddiv))\n",
        "else: \n",
        "  print('\\nOperation not viable, check matrix dimensions.') "
      ]
    }
  ],
  "metadata": {
    "colab": {
      "collapsed_sections": [
        "6cp2v5mEZpfN"
      ],
      "name": "Assignment 3 Matrix in Python",
      "provenance": [],
      "authorship_tag": "ABX9TyMuN4zMbtPc3r2VRyPNsUc1",
      "include_colab_link": true
    },
    "kernelspec": {
      "display_name": "Python 3",
      "name": "python3"
    },
    "language_info": {
      "name": "python"
    }
  },
  "nbformat": 4,
  "nbformat_minor": 0
}