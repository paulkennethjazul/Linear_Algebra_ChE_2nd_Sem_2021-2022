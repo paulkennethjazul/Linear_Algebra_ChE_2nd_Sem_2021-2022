{
  "cells": [
    {
      "cell_type": "markdown",
      "metadata": {
        "id": "view-in-github",
        "colab_type": "text"
      },
      "source": [
        "<a href=\"https://colab.research.google.com/github/paulkennethjazul/Linear_Algebra_ChE_2nd_Sem_2021-2022/blob/main/Activity_1_Pyton_Fundamentals.ipynb\" target=\"_parent\"><img src=\"https://colab.research.google.com/assets/colab-badge.svg\" alt=\"Open In Colab\"/></a>"
      ]
    },
    {
      "cell_type": "markdown",
      "metadata": {
        "id": "h8vVOTuzAHCv"
      },
      "source": [
        "# Welcome to Python Fundamentals\n",
        "In this module, we are going to establish or review our skills in Python programming. In this notebook we are going to cover:\n",
        "* Variables and Data Types \n",
        "* Operations\n",
        "* Input and Output Operations\n",
        "* Logic Control\n",
        "* Iterables\n",
        "* Functions\n",
        "\n"
      ]
    },
    {
      "cell_type": "markdown",
      "metadata": {
        "id": "ZUN-ZNENHxRS"
      },
      "source": [
        "## Variable and Data Types"
      ]
    },
    {
      "cell_type": "code",
      "execution_count": null,
      "metadata": {
        "id": "QX2PgCHuA_7P",
        "colab": {
          "base_uri": "https://localhost:8080/"
        },
        "outputId": "b413798a-e31c-4cbe-cd55-ef4530e59ddd"
      },
      "outputs": [
        {
          "output_type": "execute_result",
          "data": {
            "text/plain": [
              "25"
            ]
          },
          "metadata": {},
          "execution_count": 133
        }
      ],
      "source": [
        "s=55 \n",
        "po, pu = 25, 29\n",
        "po"
      ]
    },
    {
      "cell_type": "code",
      "execution_count": null,
      "metadata": {
        "id": "YJlM_JDpBRMt",
        "colab": {
          "base_uri": "https://localhost:8080/"
        },
        "outputId": "26c195ea-f77e-469f-9aec-de8dac61e2fa"
      },
      "outputs": [
        {
          "output_type": "execute_result",
          "data": {
            "text/plain": [
              "int"
            ]
          },
          "metadata": {},
          "execution_count": 134
        }
      ],
      "source": [
        "type(s)"
      ]
    },
    {
      "cell_type": "code",
      "execution_count": null,
      "metadata": {
        "id": "_RspjUJJBptX",
        "colab": {
          "base_uri": "https://localhost:8080/"
        },
        "outputId": "125891fb-4937-45ca-fb12-b3217c5f0c82"
      },
      "outputs": [
        {
          "output_type": "execute_result",
          "data": {
            "text/plain": [
              "float"
            ]
          },
          "metadata": {},
          "execution_count": 135
        }
      ],
      "source": [
        "y=1.0\n",
        "type(y)"
      ]
    },
    {
      "cell_type": "code",
      "execution_count": null,
      "metadata": {
        "id": "dn7hgYWHBw_c",
        "colab": {
          "base_uri": "https://localhost:8080/"
        },
        "outputId": "977b0bee-60dd-4c0d-8ed1-62fd48486f75"
      },
      "outputs": [
        {
          "output_type": "execute_result",
          "data": {
            "text/plain": [
              "int"
            ]
          },
          "metadata": {},
          "execution_count": 136
        }
      ],
      "source": [
        "x= float(s)\n",
        "type(s)"
      ]
    },
    {
      "cell_type": "code",
      "execution_count": null,
      "metadata": {
        "id": "w1yZpduZBzxp",
        "colab": {
          "base_uri": "https://localhost:8080/"
        },
        "outputId": "61e3f3f5-3bc1-4787-eb23-0dc0341ad40e"
      },
      "outputs": [
        {
          "output_type": "execute_result",
          "data": {
            "text/plain": [
              "str"
            ]
          },
          "metadata": {},
          "execution_count": 137
        }
      ],
      "source": [
        "g,h,f = \"0\", '1', 'one'\n",
        "type(g)"
      ]
    },
    {
      "cell_type": "code",
      "execution_count": null,
      "metadata": {
        "id": "TCrDPI7XCSQ3",
        "colab": {
          "base_uri": "https://localhost:8080/"
        },
        "outputId": "3e4e3e38-30e5-4d33-81b1-80bd983aec48"
      },
      "outputs": [
        {
          "output_type": "execute_result",
          "data": {
            "text/plain": [
              "0"
            ]
          },
          "metadata": {},
          "execution_count": 138
        }
      ],
      "source": [
        "s_int = int(g)\n",
        "s_int"
      ]
    },
    {
      "cell_type": "markdown",
      "metadata": {
        "id": "_bxd9LhrCx4H"
      },
      "source": [
        "##Operations"
      ]
    },
    {
      "cell_type": "markdown",
      "metadata": {
        "id": "YY8_XL72C2en"
      },
      "source": [
        "###Arithmetic"
      ]
    },
    {
      "cell_type": "code",
      "execution_count": null,
      "metadata": {
        "id": "Wr9BWRF_C9df"
      },
      "outputs": [],
      "source": [
        "a,b,c,d = 5.1, 1, 99, 100"
      ]
    },
    {
      "cell_type": "code",
      "execution_count": null,
      "metadata": {
        "id": "cHU84q9KDXan",
        "colab": {
          "base_uri": "https://localhost:8080/"
        },
        "outputId": "9f3c98f0-b3ef-4f0c-98b4-d7226c979885"
      },
      "outputs": [
        {
          "output_type": "execute_result",
          "data": {
            "text/plain": [
              "105.1"
            ]
          },
          "metadata": {},
          "execution_count": 2
        }
      ],
      "source": [
        "# Addition\n",
        "S = a+b+c\n",
        "S"
      ]
    },
    {
      "cell_type": "code",
      "execution_count": null,
      "metadata": {
        "id": "93MSskzmEe5Y",
        "colab": {
          "base_uri": "https://localhost:8080/"
        },
        "outputId": "e9621360-c16d-44a7-e059-61d2d302cdb5"
      },
      "outputs": [
        {
          "output_type": "execute_result",
          "data": {
            "text/plain": [
              "-95.9"
            ]
          },
          "metadata": {},
          "execution_count": 3
        }
      ],
      "source": [
        "### Substraction\n",
        "F = a-b-d\n",
        "F"
      ]
    },
    {
      "cell_type": "code",
      "execution_count": null,
      "metadata": {
        "id": "S8mEwp1QE324",
        "colab": {
          "base_uri": "https://localhost:8080/"
        },
        "outputId": "c43eac3c-2e37-484e-9a3f-20a0e33aa5d3"
      },
      "outputs": [
        {
          "output_type": "execute_result",
          "data": {
            "text/plain": [
              "504.9"
            ]
          },
          "metadata": {},
          "execution_count": 4
        }
      ],
      "source": [
        "### Multiplication\n",
        "Q = a*b*c\n",
        "Q"
      ]
    },
    {
      "cell_type": "code",
      "execution_count": null,
      "metadata": {
        "id": "DiL0E2gXFBor",
        "colab": {
          "base_uri": "https://localhost:8080/"
        },
        "outputId": "9216a6f1-648a-417a-9b43-a00d432a0ab4"
      },
      "outputs": [
        {
          "output_type": "execute_result",
          "data": {
            "text/plain": [
              "2.0"
            ]
          },
          "metadata": {},
          "execution_count": 5
        }
      ],
      "source": [
        "### Division\n",
        "B = a/a+b\n",
        "B"
      ]
    },
    {
      "cell_type": "code",
      "execution_count": null,
      "metadata": {
        "id": "OkdLKDSmFH1p",
        "colab": {
          "base_uri": "https://localhost:8080/"
        },
        "outputId": "0706d51f-34b9-4acd-d824-156a2b24fc2f"
      },
      "outputs": [
        {
          "output_type": "execute_result",
          "data": {
            "text/plain": [
              "19.0"
            ]
          },
          "metadata": {},
          "execution_count": 15
        }
      ],
      "source": [
        "#### Floor division\n",
        "Fd = d//a\n",
        "Fd"
      ]
    },
    {
      "cell_type": "code",
      "execution_count": null,
      "metadata": {
        "id": "YsDG_9k4Fu8K",
        "colab": {
          "base_uri": "https://localhost:8080/"
        },
        "outputId": "8fbefe45-d577-474a-8051-12dea0c33d06"
      },
      "outputs": [
        {
          "output_type": "execute_result",
          "data": {
            "text/plain": [
              "5.715018094850387e+70"
            ]
          },
          "metadata": {},
          "execution_count": 7
        }
      ],
      "source": [
        "### Exponentation\n",
        "E = a**d\n",
        "E"
      ]
    },
    {
      "cell_type": "code",
      "execution_count": null,
      "metadata": {
        "id": "_65EbHh3Hdhp",
        "colab": {
          "base_uri": "https://localhost:8080/"
        },
        "outputId": "f90ef66d-ae7b-4dd5-dcf2-c7097bdb8766"
      },
      "outputs": [
        {
          "output_type": "execute_result",
          "data": {
            "text/plain": [
              "1"
            ]
          },
          "metadata": {},
          "execution_count": 16
        }
      ],
      "source": [
        "### Modulo\n",
        "mod= b%d\n",
        "mod"
      ]
    },
    {
      "cell_type": "markdown",
      "metadata": {
        "id": "RVIzeWYNJj9q"
      },
      "source": [
        "### Assignment Operations"
      ]
    },
    {
      "cell_type": "code",
      "execution_count": null,
      "metadata": {
        "id": "4C7zLg6iJr7Z"
      },
      "outputs": [],
      "source": [
        "Z, X, C, V = 500, 800, 700, 900"
      ]
    },
    {
      "cell_type": "code",
      "execution_count": null,
      "metadata": {
        "id": "S_2GFGsuJ9oq",
        "colab": {
          "base_uri": "https://localhost:8080/"
        },
        "outputId": "336a7bfd-1704-4d44-97b1-28542727d4da"
      },
      "outputs": [
        {
          "output_type": "execute_result",
          "data": {
            "text/plain": [
              "1000"
            ]
          },
          "metadata": {},
          "execution_count": 18
        }
      ],
      "source": [
        "Z +=Z\n",
        "Z"
      ]
    },
    {
      "cell_type": "code",
      "execution_count": null,
      "metadata": {
        "id": "VnWinJzmKWuy",
        "colab": {
          "base_uri": "https://localhost:8080/"
        },
        "outputId": "4dd72a34-94b1-4cd2-b1f3-8540a64d101b"
      },
      "outputs": [
        {
          "output_type": "execute_result",
          "data": {
            "text/plain": [
              "0"
            ]
          },
          "metadata": {},
          "execution_count": 19
        }
      ],
      "source": [
        "X -= X\n",
        "X"
      ]
    },
    {
      "cell_type": "code",
      "execution_count": null,
      "metadata": {
        "id": "lOEcBRbmKadQ",
        "colab": {
          "base_uri": "https://localhost:8080/"
        },
        "outputId": "39674350-91fc-4809-a222-bc287cbe71f9"
      },
      "outputs": [
        {
          "output_type": "execute_result",
          "data": {
            "text/plain": [
              "1400"
            ]
          },
          "metadata": {},
          "execution_count": 20
        }
      ],
      "source": [
        "C *= 2\n",
        "C"
      ]
    },
    {
      "cell_type": "code",
      "execution_count": null,
      "metadata": {
        "id": "gUdne0diLJM6",
        "colab": {
          "base_uri": "https://localhost:8080/"
        },
        "outputId": "3f6f90b8-2a20-4d08-e2d3-7b5a6b01d3d4"
      },
      "outputs": [
        {
          "output_type": "execute_result",
          "data": {
            "text/plain": [
              "729000000"
            ]
          },
          "metadata": {},
          "execution_count": 21
        }
      ],
      "source": [
        "V **= 3\n",
        "V"
      ]
    },
    {
      "cell_type": "markdown",
      "metadata": {
        "id": "wGzJ_xmmLUEh"
      },
      "source": [
        "###Comparators"
      ]
    },
    {
      "cell_type": "code",
      "execution_count": null,
      "metadata": {
        "id": "FhAER_fULZz5"
      },
      "outputs": [],
      "source": [
        "res_1, res_2, res_3 = 6.0, 2.0, \"1\"\n",
        "true_val = 8.0"
      ]
    },
    {
      "cell_type": "code",
      "execution_count": null,
      "metadata": {
        "id": "UIQ2ppjHLpcb",
        "colab": {
          "base_uri": "https://localhost:8080/"
        },
        "outputId": "1a085655-1a4b-426c-d136-b00f41c1d861"
      },
      "outputs": [
        {
          "output_type": "execute_result",
          "data": {
            "text/plain": [
              "False"
            ]
          },
          "metadata": {},
          "execution_count": 3
        }
      ],
      "source": [
        "## Equality\n",
        "res_1 == true_val"
      ]
    },
    {
      "cell_type": "code",
      "execution_count": null,
      "metadata": {
        "id": "8KfTLx4SLztj",
        "colab": {
          "base_uri": "https://localhost:8080/"
        },
        "outputId": "a7dd12f7-a25e-4ec8-d9f2-c51cc98241c5"
      },
      "outputs": [
        {
          "output_type": "execute_result",
          "data": {
            "text/plain": [
              "True"
            ]
          },
          "metadata": {},
          "execution_count": 4
        }
      ],
      "source": [
        "## Non-equality\n",
        "res_2 != true_val"
      ]
    },
    {
      "cell_type": "code",
      "execution_count": null,
      "metadata": {
        "id": "TE5W3NSeL5Fy",
        "colab": {
          "base_uri": "https://localhost:8080/"
        },
        "outputId": "506c0d6b-8618-4553-ecf7-ba2bcecfc95d"
      },
      "outputs": [
        {
          "output_type": "execute_result",
          "data": {
            "text/plain": [
              "True"
            ]
          },
          "metadata": {},
          "execution_count": 5
        }
      ],
      "source": [
        "##Inequality\n",
        "t1 = res_1 > res_2\n",
        "t2 = res_1 < res_2/2\n",
        "t3 = res_1 >= res_2/2\n",
        "t4 = res_1 <= res_2\n",
        "t3"
      ]
    },
    {
      "cell_type": "markdown",
      "metadata": {
        "id": "FvDDPqG1MUjh"
      },
      "source": [
        "### Logical"
      ]
    },
    {
      "cell_type": "code",
      "execution_count": null,
      "metadata": {
        "id": "K4NrQr2bMWir",
        "colab": {
          "base_uri": "https://localhost:8080/"
        },
        "outputId": "f3c6766f-2aaa-4f34-a0e2-7e3b3ee9958b"
      },
      "outputs": [
        {
          "output_type": "execute_result",
          "data": {
            "text/plain": [
              "False"
            ]
          },
          "metadata": {},
          "execution_count": 6
        }
      ],
      "source": [
        "res_1 == true_val"
      ]
    },
    {
      "cell_type": "code",
      "execution_count": null,
      "metadata": {
        "id": "pHvrRy4RMaAK",
        "colab": {
          "base_uri": "https://localhost:8080/"
        },
        "outputId": "d0fa7695-0ef8-4d44-cea0-407d71fa0176"
      },
      "outputs": [
        {
          "output_type": "execute_result",
          "data": {
            "text/plain": [
              "False"
            ]
          },
          "metadata": {},
          "execution_count": 7
        }
      ],
      "source": [
        "res_1 is true_val"
      ]
    },
    {
      "cell_type": "code",
      "execution_count": null,
      "metadata": {
        "id": "gjTdbuhoMcmC",
        "colab": {
          "base_uri": "https://localhost:8080/"
        },
        "outputId": "ad14c076-1057-4544-d6a2-f39352187bd5"
      },
      "outputs": [
        {
          "output_type": "execute_result",
          "data": {
            "text/plain": [
              "True"
            ]
          },
          "metadata": {},
          "execution_count": 8
        }
      ],
      "source": [
        "res_1 is not true_val"
      ]
    },
    {
      "cell_type": "code",
      "execution_count": null,
      "metadata": {
        "id": "ekp0B_APMgZT",
        "colab": {
          "base_uri": "https://localhost:8080/"
        },
        "outputId": "dcae33c2-b146-4dc6-a58b-0e4224e5cd5f"
      },
      "outputs": [
        {
          "output_type": "execute_result",
          "data": {
            "text/plain": [
              "True"
            ]
          },
          "metadata": {},
          "execution_count": 9
        }
      ],
      "source": [
        "p,q =True, False\n",
        "disj = p or q\n",
        "disj"
      ]
    },
    {
      "cell_type": "code",
      "execution_count": null,
      "metadata": {
        "id": "njDXVHkyMra0",
        "colab": {
          "base_uri": "https://localhost:8080/"
        },
        "outputId": "f7f4aac1-467d-481b-e473-f81a6e7f0f74"
      },
      "outputs": [
        {
          "output_type": "execute_result",
          "data": {
            "text/plain": [
              "False"
            ]
          },
          "metadata": {},
          "execution_count": 10
        }
      ],
      "source": [
        "p,q = True, False\n",
        "conj = p and q\n",
        "conj"
      ]
    },
    {
      "cell_type": "code",
      "execution_count": null,
      "metadata": {
        "id": "F-BaUCZHM_oK",
        "colab": {
          "base_uri": "https://localhost:8080/"
        },
        "outputId": "48ea8a16-987f-49dc-9560-4562e00e6e21"
      },
      "outputs": [
        {
          "output_type": "execute_result",
          "data": {
            "text/plain": [
              "True"
            ]
          },
          "metadata": {},
          "execution_count": 11
        }
      ],
      "source": [
        "p,q = True, False\n",
        "nand = not(p and q)\n",
        "nand"
      ]
    },
    {
      "cell_type": "code",
      "execution_count": null,
      "metadata": {
        "id": "9lvVaTBqNUam",
        "colab": {
          "base_uri": "https://localhost:8080/"
        },
        "outputId": "02407984-3038-4625-956e-a048a92a4574"
      },
      "outputs": [
        {
          "output_type": "execute_result",
          "data": {
            "text/plain": [
              "False"
            ]
          },
          "metadata": {},
          "execution_count": 12
        }
      ],
      "source": [
        "p,q = True, False\n",
        "xor = (not p and q) or (q and not q)\n",
        "xor"
      ]
    },
    {
      "cell_type": "markdown",
      "metadata": {
        "id": "da7TzVZoPDgT"
      },
      "source": [
        "### I/O"
      ]
    },
    {
      "cell_type": "code",
      "execution_count": null,
      "metadata": {
        "id": "USnjh5YUPGRN",
        "colab": {
          "base_uri": "https://localhost:8080/"
        },
        "outputId": "a39942ac-3e77-4477-8fe7-d8f67171f5d2"
      },
      "outputs": [
        {
          "output_type": "stream",
          "name": "stdout",
          "text": [
            "Tamad ako\n"
          ]
        }
      ],
      "source": [
        "print (\"Tamad ako\")"
      ]
    },
    {
      "cell_type": "code",
      "execution_count": null,
      "metadata": {
        "id": "zDRYtrsDPKLd"
      },
      "outputs": [],
      "source": [
        "cnt = 300"
      ]
    },
    {
      "cell_type": "code",
      "execution_count": null,
      "metadata": {
        "id": "TCrrcxO-PME9",
        "colab": {
          "base_uri": "https://localhost:8080/"
        },
        "outputId": "55855da0-2591-4b28-b165-5116fc11e523"
      },
      "outputs": [
        {
          "output_type": "stream",
          "name": "stdout",
          "text": [
            "Nakakatamad , Current run count is: 300\n"
          ]
        }
      ],
      "source": [
        "string = \"Nakakatamad\"\n",
        "print(string, \", Current run count is:\", cnt)\n",
        "cnt += 1"
      ]
    },
    {
      "cell_type": "code",
      "execution_count": null,
      "metadata": {
        "id": "9FFVAV0pPqMz",
        "colab": {
          "base_uri": "https://localhost:8080/"
        },
        "outputId": "d18b54a2-d7c2-411d-d7fb-883d97caf479"
      },
      "outputs": [
        {
          "output_type": "stream",
          "name": "stdout",
          "text": [
            "(string), Current count is: 2 (cnt)\n"
          ]
        }
      ],
      "source": [
        "print(f\"(string), Current count is: 2 (cnt)\")"
      ]
    },
    {
      "cell_type": "code",
      "execution_count": null,
      "metadata": {
        "id": "OLDmt0feQQIm",
        "colab": {
          "base_uri": "https://localhost:8080/"
        },
        "outputId": "12b3ea30-e5c3-466c-8d62-da45d032eeb7"
      },
      "outputs": [
        {
          "output_type": "stream",
          "name": "stdout",
          "text": [
            "Hello Kenneth, your semestral grade is: 6.9\n"
          ]
        }
      ],
      "source": [
        "sem_grade = 6.9\n",
        "name = \"Kenneth\"\n",
        "print(\"Hello {}, your semestral grade is: {}\" .format(name, sem_grade))"
      ]
    },
    {
      "cell_type": "code",
      "execution_count": null,
      "metadata": {
        "id": "PfcUNgRfQiBn",
        "colab": {
          "base_uri": "https://localhost:8080/"
        },
        "outputId": "3ed25e7a-e554-4326-d452-a819a4538a71"
      },
      "outputs": [
        {
          "output_type": "stream",
          "name": "stdout",
          "text": [
            "The weights of your semestral grades are\n",
            "\t30.00% for Prelims\n",
            "\t 30.00% for Midterms, and\n",
            "\t 40.00% for Finals.\n"
          ]
        }
      ],
      "source": [
        "w_pg, w_mg, w_fg = 0.3, 0.3, 0.4\n",
        "print(\"The weights of your semestral grades are\\\n",
        "\\n\\t{:.2%} for Prelims\\\n",
        "\\n\\t {:.2%} for Midterms, and\\\n",
        "\\n\\t {:.2%} for Finals.\".format(w_pg, w_mg, w_fg))"
      ]
    },
    {
      "cell_type": "code",
      "execution_count": null,
      "metadata": {
        "id": "1kGmf5rcAxln",
        "colab": {
          "base_uri": "https://localhost:8080/",
          "height": 55
        },
        "outputId": "19ddff0a-0ca5-4ddf-cc2d-17f2042f8d90"
      },
      "outputs": [
        {
          "name": "stdout",
          "output_type": "stream",
          "text": [
            "What's your favorite number69\n"
          ]
        },
        {
          "output_type": "execute_result",
          "data": {
            "application/vnd.google.colaboratory.intrinsic+json": {
              "type": "string"
            },
            "text/plain": [
              "'69'"
            ]
          },
          "metadata": {},
          "execution_count": 28
        }
      ],
      "source": [
        "x = input(\"What's your favorite number\")\n",
        "x"
      ]
    },
    {
      "cell_type": "code",
      "execution_count": null,
      "metadata": {
        "id": "3maqJECHDTEd",
        "colab": {
          "base_uri": "https://localhost:8080/"
        },
        "outputId": "04aa61e3-d063-4e8c-c0bd-2291d5c80370"
      },
      "outputs": [
        {
          "output_type": "stream",
          "name": "stdout",
          "text": [
            "Your name: Ken\n",
            "Nangangamoy bagsak, prelim grade: 10\n",
            "Nangangamoy bagsak, midterm grade: 20\n",
            "Nangangamoy bagsak, final grade: 30\n",
            "Hello Ken, your semestral grade is: 0\n"
          ]
        }
      ],
      "source": [
        "name = input(\"Your name: \")\n",
        "pg = input(\"Nangangamoy bagsak, prelim grade: \")\n",
        "mg = input(\"Nangangamoy bagsak, midterm grade: \")\n",
        "fg = input(\"Nangangamoy bagsak, final grade: \")\n",
        "sem_grade = 0\n",
        "print(\"Hello {}, your semestral grade is: {}\" .format(name, sem_grade))"
      ]
    },
    {
      "cell_type": "markdown",
      "metadata": {
        "id": "AHYBOTrWFikW"
      },
      "source": [
        "#While"
      ]
    },
    {
      "cell_type": "code",
      "execution_count": null,
      "metadata": {
        "id": "0r_SHC6pFlWV",
        "colab": {
          "base_uri": "https://localhost:8080/"
        },
        "outputId": "a27d845c-5f24-4858-97d7-cd3ca6b7633b"
      },
      "outputs": [
        {
          "output_type": "stream",
          "name": "stdout",
          "text": [
            "0\t|10\n",
            "1\t|10\n",
            "2\t|10\n",
            "3\t|10\n",
            "4\t|10\n",
            "5\t|10\n",
            "6\t|10\n",
            "7\t|10\n",
            "8\t|10\n",
            "9\t|10\n",
            "10\t|10\n"
          ]
        }
      ],
      "source": [
        "## while loops\n",
        "chismosa, marites = 0, 10\n",
        "while(chismosa<=marites):\n",
        "  print(f\"{chismosa}\\t|{marites}\")\n",
        "  chismosa+=1"
      ]
    },
    {
      "cell_type": "code",
      "execution_count": null,
      "metadata": {
        "id": "Q5DRxLl8GsQM",
        "colab": {
          "base_uri": "https://localhost:8080/"
        },
        "outputId": "0a5fb3bb-97ce-4acb-abf1-6a533e22e225"
      },
      "outputs": [
        {
          "output_type": "stream",
          "name": "stdout",
          "text": [
            "0\n",
            "1\n",
            "2\n",
            "3\n",
            "4\n",
            "5\n",
            "6\n",
            "7\n",
            "8\n",
            "9\n"
          ]
        }
      ],
      "source": [
        "# for(int marites=0; marites<10; marites++){\n",
        "# printf(marites)\n",
        "# }\n",
        "\n",
        "marites=0\n",
        "for marites in range(10):\n",
        "  print(marites)"
      ]
    },
    {
      "cell_type": "code",
      "execution_count": null,
      "metadata": {
        "id": "O1QJVCwUHsu1",
        "colab": {
          "base_uri": "https://localhost:8080/"
        },
        "outputId": "c61a64bf-ab88-4ca3-e5e0-094d9102eb5a"
      },
      "outputs": [
        {
          "output_type": "stream",
          "name": "stdout",
          "text": [
            "TikTok playlist:\n",
            "\n",
            "Alpha chismosa\n",
            "Paro-paro G\n",
            "marites salakam\n"
          ]
        }
      ],
      "source": [
        "playlist = [\"Alpha chismosa\", \"Paro-paro G\", \"marites salakam\"]\n",
        "print('TikTok playlist:\\n')\n",
        "for song in playlist:\n",
        "  print(song)"
      ]
    },
    {
      "cell_type": "markdown",
      "metadata": {
        "id": "3KRNcOa2IU5W"
      },
      "source": [
        "#Flow Control"
      ]
    },
    {
      "cell_type": "markdown",
      "metadata": {
        "id": "jdA9iI5oIX-w"
      },
      "source": [
        "##Conditon Statements"
      ]
    },
    {
      "cell_type": "code",
      "execution_count": null,
      "metadata": {
        "id": "xbld-TnsIaHW"
      },
      "outputs": [],
      "source": [
        "numeral1, numeral2 = 12, 14\n",
        "if(numeral1 == numeral2):\n",
        "  print(\"yooo\")\n",
        "elif(numeral1>numeral2):\n",
        "  print(\"edi wew\")\n",
        "else:\n",
        "  print(\"edi wow\")"
      ]
    },
    {
      "cell_type": "code",
      "execution_count": null,
      "metadata": {
        "id": "UDqsd_-gKIN8"
      },
      "outputs": [],
      "source": [
        "# void DeleteUser (int userid){\n",
        "#    delete(userid);\n",
        "# }\n",
        "\n",
        "def delete_user (userid):\n",
        "  print(\"Successfully deleted user: {}\".format(userid))\n",
        "\n",
        "def delete_all_users ():\n",
        "    print(\"Successfully deleted all users\")"
      ]
    },
    {
      "cell_type": "code",
      "execution_count": null,
      "metadata": {
        "id": "mS012l9nLbxM"
      },
      "outputs": [],
      "source": [
        "userid = 20201234\n",
        "delete_user(20201234)\n",
        "delete_all_users()"
      ]
    },
    {
      "cell_type": "code",
      "execution_count": null,
      "metadata": {
        "id": "Lf2S5Dy7M1Dl"
      },
      "outputs": [],
      "source": [
        "def add(addend1, addend2):\n",
        "  print(\"I know and I know\")\n",
        "  return addend1 + addend2\n",
        "\n",
        "def power_of_base2(exponent):\n",
        "    return 2**exponent\n",
        "\n",
        "addend1 = 10\n",
        "addend2 = 10\n",
        "\n",
        "add(addend1, addend2)\n",
        "\n",
        "exponent = 5\n",
        "\n",
        "#add(addend1, addend2)\n",
        "power_of_base2(exponent)"
      ]
    },
    {
      "cell_type": "code",
      "execution_count": null,
      "metadata": {
        "id": "rHuVAN1LOAG1"
      },
      "outputs": [],
      "source": [
        "add(addend1, addend2)"
      ]
    },
    {
      "cell_type": "markdown",
      "metadata": {
        "id": "AasidPi7PF1k"
      },
      "source": [
        "#Activity"
      ]
    },
    {
      "cell_type": "code",
      "execution_count": null,
      "metadata": {
        "id": "HlhJgl2XPJCM"
      },
      "outputs": [],
      "source": [
        "name = input(\"Enter your name: \")\n",
        "coursename = input(\"Enter your course: \")\n",
        "\n",
        "print(\"\\nLet's compute for your semestral grade!\")\n",
        "\n",
        " \n",
        "prelims = input(\"\\nPrelim Grade: \")\n",
        "midterms = input(\"Midterm Grade: \")\n",
        "finals = input(\"Finals Grade:\")\n",
        "\n",
        "prelims = float(prelims)\n",
        "midterms = float(midterms)\n",
        "finals = float(finals)\n",
        "\n",
        "## Weighted grades\n",
        "\n",
        "prelims_w = prelims * 0.3\n",
        "midterms_w = midterms * 0.3\n",
        "finals_w = finals * 0.4\n",
        "\n",
        "sem_grade = (prelims_w + midterms_w + finals_w)\n",
        "\n",
        "sem_grade_percent = sem_grade / 100\n",
        "\n",
        "\n",
        "passing_grade = 70\n",
        "\n",
        "if (sem_grade == passing_grade):\n",
        "    print(\"\\nHi {}, your semestral grade is: {:.2%}, \\U0001F606 \". format(name, sem_grade_percent))\n",
        "elif (sem_grade > passing_grade):\n",
        "    print(\"\\nHi {}, your semestral grade is: {:.2%}, \\U0001F600 \". format(name, sem_grade_percent))\n",
        "else:\n",
        "    print(\"\\nHi {}, your semestral grade is: {:.2%}, \\U0001F62D \". format(name, sem_grade_percent))\n",
        "\n"
      ]
    }
  ],
  "metadata": {
    "colab": {
      "name": "Activity 1 - Pyton Fundamentals",
      "provenance": [],
      "collapsed_sections": [
        "YY8_XL72C2en",
        "RVIzeWYNJj9q",
        "wGzJ_xmmLUEh",
        "FvDDPqG1MUjh",
        "da7TzVZoPDgT",
        "AHYBOTrWFikW",
        "jdA9iI5oIX-w"
      ],
      "authorship_tag": "ABX9TyPY0lS2yXtyW6O3SFbKv+JS",
      "include_colab_link": true
    },
    "kernelspec": {
      "display_name": "Python 3",
      "name": "python3"
    },
    "language_info": {
      "name": "python"
    }
  },
  "nbformat": 4,
  "nbformat_minor": 0
}