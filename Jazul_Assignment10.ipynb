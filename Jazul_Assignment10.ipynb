{
  "nbformat": 4,
  "nbformat_minor": 0,
  "metadata": {
    "colab": {
      "name": "Jazul_Assignment10.ipynb",
      "provenance": [],
      "authorship_tag": "ABX9TyPT4CPupNV+fJDrDjkaRAOx",
      "include_colab_link": true
    },
    "kernelspec": {
      "name": "python3",
      "display_name": "Python 3"
    },
    "language_info": {
      "name": "python"
    }
  },
  "cells": [
    {
      "cell_type": "markdown",
      "metadata": {
        "id": "view-in-github",
        "colab_type": "text"
      },
      "source": [
        "<a href=\"https://colab.research.google.com/github/paulkennethjazul/Linear_Algebra_ChE_2nd_Sem_2021-2022/blob/main/Jazul_Assignment10.ipynb\" target=\"_parent\"><img src=\"https://colab.research.google.com/assets/colab-badge.svg\" alt=\"Open In Colab\"/></a>"
      ]
    },
    {
      "cell_type": "markdown",
      "source": [
        "#**Laboratory 10: Linear Combination and Vector Spaces**\n",
        "\n",
        "Now that you have a fundamental knowledge about linear combination, we'll try to visualize it using scientific programming.\n",
        "\n",
        "**Objectives**\n",
        "At the end of this activity you will be able to:\n",
        "1. Be familiar with representing linear combinations in the 2-dimensional plane.\n",
        "2. Visualize spans using vector fields in Python.\n",
        "3. Perform vector fields operations using scientific programming."
      ],
      "metadata": {
        "id": "YE13yycUmyEJ"
      }
    },
    {
      "cell_type": "markdown",
      "source": [
        "## Discussion"
      ],
      "metadata": {
        "id": "XfbPy8gpm5QQ"
      }
    },
    {
      "cell_type": "code",
      "execution_count": null,
      "metadata": {
        "id": "oqFzAKfhmkZA"
      },
      "outputs": [],
      "source": [
        "import numpy as np\n",
        "import matplotlib.pyplot as plt\n",
        "%matplotlib inline"
      ]
    },
    {
      "cell_type": "markdown",
      "source": [
        "## Linear Combination"
      ],
      "metadata": {
        "id": "xvH2BOsem8aA"
      }
    },
    {
      "cell_type": "markdown",
      "source": [
        "##Linear Combination\n",
        "It is said that a linear combination is the combination of linear scaling and addition of a vector its bases/components\n",
        "\n",
        "We will try to visualize the vectors and their linear combinations by plotting a sample of real number values for the scalars for the vectors. Let's first try the vectors below:\n",
        "\n",
        "$$X = \\begin{bmatrix} 10\\\\15 \\\\\\end{bmatrix} , Y = \\begin{bmatrix} 3\\\\18\\\\\\end {bmatrix} $$"
      ],
      "metadata": {
        "id": "tNsQIRHrm-Uw"
      }
    },
    {
      "cell_type": "code",
      "source": [
        "vect_X =  np.array([10,15])\n",
        "vect_Y =  np.array([3,18])\n",
        "vect_Y"
      ],
      "metadata": {
        "colab": {
          "base_uri": "https://localhost:8080/"
        },
        "id": "s7qI8T9lnDLY",
        "outputId": "40627789-99ad-4037-fcbb-6b348c72ac43"
      },
      "execution_count": null,
      "outputs": [
        {
          "output_type": "execute_result",
          "data": {
            "text/plain": [
              "array([ 3, 18])"
            ]
          },
          "metadata": {},
          "execution_count": 2
        }
      ]
    },
    {
      "cell_type": "markdown",
      "source": [
        "##Span of Single Vectors\n",
        "As discussed in the lecture, the span of individual vectors can be represented by a line span. Let's take vector  as an example.\n",
        "\n",
        "$$X = c\\cdot\\begin{bmatrix} 10\\\\15\\\\\\end{bmatrix}$$\n",
        "\n",
        "C is the spanning of the sing vector"
      ],
      "metadata": {
        "id": "AWZmCBKanE5Y"
      }
    },
    {
      "cell_type": "code",
      "source": [
        "c = np.arange(-15,15,0.13)\n",
        "\n",
        "plt.scatter(c*vect_X[0],c*vect_X[1])\n",
        "\n",
        "plt.xlim(-10,10)\n",
        "plt.ylim(-10,10)\n",
        "plt.axhline(y=0, color='Orange')\n",
        "plt.axvline(x=0, color='blue')\n",
        "plt.grid()\n",
        "plt.show()"
      ],
      "metadata": {
        "colab": {
          "base_uri": "https://localhost:8080/",
          "height": 269
        },
        "id": "Z_v7H9bdnIB4",
        "outputId": "dc701d2c-6374-4f3b-b403-92790bdcf7b6"
      },
      "execution_count": null,
      "outputs": [
        {
          "output_type": "display_data",
          "data": {
            "text/plain": [
              "<Figure size 432x288 with 1 Axes>"
            ],
            "image/png": "[encoded data removed]"
          },
          "metadata": {
            "needs_background": "light"
          }
        }
      ]
    },
    {
      "cell_type": "code",
      "source": [
        "c = np.arange(-8,16,0.5)\n",
        "\n",
        "plt.scatter(c*vect_Y[0],c*vect_Y[1])\n",
        "\n",
        "plt.xlim(-20,20)\n",
        "plt.ylim(-20,20)\n",
        "plt.axhline(y=0, color='k')\n",
        "plt.axvline(x=0, color='k')\n",
        "plt.grid()\n",
        "plt.show()"
      ],
      "metadata": {
        "colab": {
          "base_uri": "https://localhost:8080/",
          "height": 269
        },
        "id": "2lUVhZINnJgI",
        "outputId": "704cbbc5-a48e-4c69-a992-9cf32183b044"
      },
      "execution_count": null,
      "outputs": [
        {
          "output_type": "display_data",
          "data": {
            "text/plain": [
              "<Figure size 432x288 with 1 Axes>"
            ],
            "image/png": "[encoded data removed]"
          },
          "metadata": {
            "needs_background": "light"
          }
        }
      ]
    },
    {
      "cell_type": "markdown",
      "source": [
        "##Span of a linear combination of vectors\n",
        "So what if we are to plot the span of a linear combination of vectors? We can visualize as a plane on the 2-dimensional coordinate system. Let's take the span of the linear combination below:\n",
        "\n",
        "$$Luna = \\begin{Bmatrix} c_1 \\cdot\\begin{bmatrix} 1\\\\0\\\\\\end{bmatrix},\n",
        "c_2 \\cdot\\begin{bmatrix} 1\\\\-1\\\\\\end{bmatrix}\\end{Bmatrix}$$\n"
      ],
      "metadata": {
        "id": "yM1dXCbknKpR"
      }
    },
    {
      "cell_type": "code",
      "source": [
        "vectA = np.array([5,10])\n",
        "vectB = np.array([3,-2])\n",
        "\n",
        "R = np.arange(-10,10,1)\n",
        "\n",
        "c1, c2 = np.meshgrid(R,R)\n",
        "\n",
        "vectR = vectA + vectB\n",
        "spanRx = c1*vectA[0] + c2*vectB[0]\n",
        "spanRy = c1*vectA[1] + c2*vectB[1]\n",
        "plt.scatter(R*vectA[0],R*vectA[1])\n",
        "plt.scatter(R*vectB[0],R*vectB[1])\n",
        "plt.scatter(spanRx,spanRy, s=5, alpha=0.75)\n",
        "\n",
        "plt.axhline(y=0, color='k')\n",
        "plt.axvline(x=0, color='k')\n",
        "plt.grid()\n",
        "plt.show()"
      ],
      "metadata": {
        "colab": {
          "base_uri": "https://localhost:8080/",
          "height": 265
        },
        "id": "_Qan4JKRnOlJ",
        "outputId": "5bcf560d-8e7f-4fc7-822d-cf6edadce576"
      },
      "execution_count": null,
      "outputs": [
        {
          "output_type": "display_data",
          "data": {
            "text/plain": [
              "<Figure size 432x288 with 1 Axes>"
            ],
            "image/png": "[encoded data removed]"
          },
          "metadata": {
            "needs_background": "light"
          }
        }
      ]
    },
    {
      "cell_type": "code",
      "source": [
        "vectP = np.array([2,1])\n",
        "vectQ = np.array([4,3])\n",
        "\n",
        "R = np.arange(-10,10,1)\n",
        "\n",
        "c1, c2 = np.meshgrid(R,R)\n",
        "\n",
        "vectR = vectP + vectQ\n",
        "spanRx = c1*vectP[0] + c2*vectQ[0]\n",
        "spanRy = c1*vectP[1] + c2*vectQ[1]\n",
        "##plt.scatter(R*vectA[0],R*vectA[1])\n",
        "##plt.scatter(R*vectB[0],R*vectB[1])\n",
        "plt.scatter(spanRx,spanRy, s=5, alpha=0.75)\n",
        "\n",
        "plt.axhline(y=0, color='k')\n",
        "plt.axvline(x=0, color='k')\n",
        "plt.grid()\n",
        "plt.show()"
      ],
      "metadata": {
        "colab": {
          "base_uri": "https://localhost:8080/",
          "height": 265
        },
        "id": "x7lny_H6nPh4",
        "outputId": "8d40bb0b-677e-49df-e1c5-58a9297238b6"
      },
      "execution_count": null,
      "outputs": [
        {
          "output_type": "display_data",
          "data": {
            "text/plain": [
              "<Figure size 432x288 with 1 Axes>"
            ],
            "image/png": "[encoded data removed]"
          },
          "metadata": {
            "needs_background": "light"
          }
        }
      ]
    },
    {
      "cell_type": "markdown",
      "source": [
        "Take note that if vectors are seen to be as a 2-dimensional span we can say it has a Rank of 2 or $\\mathbb{R}^2$. But if the span of the linear combination of vectors are seen to be like a line, they are said to be <b> linearly dependent </b> and they have a rank of 1 or $\\mathbb{R}^1$."
      ],
      "metadata": {
        "id": "cBozU6XYnQtp"
      }
    },
    {
      "cell_type": "markdown",
      "source": [
        "## Activity"
      ],
      "metadata": {
        "id": "HJXX8G6hnTAX"
      }
    },
    {
      "cell_type": "markdown",
      "source": [
        "### Task 1"
      ],
      "metadata": {
        "id": "Ld__n3CEnVSa"
      }
    },
    {
      "cell_type": "markdown",
      "source": [
        "Try different linear combinations using different scalar values. In your methodology discuss the different functions that you have used, the  linear equation and vector form of the linear combination, and the flowchart for declaring and displaying linear combinations. Please make sure that your flowchart has only few words and not putting the entire code as it is bad practice. In your results, display and discuss the linear combination visualization you made. You should use the cells below for displaying the equation markdows using LaTeX and your code."
      ],
      "metadata": {
        "id": "KU0NWRionWIo"
      }
    },
    {
      "cell_type": "markdown",
      "source": [
        "**Linear Equation**\n",
        "$$James = 13\\hat{x} + -5\\hat{y} \\\\\n",
        "Curry = 4\\hat{x} +1\\hat{y}\\\\\n",
        "$$\n",
        "\n",
        "**Vector Form**\n",
        "$$James = \\begin{bmatrix} 13\\\\-5 \\\\\\end{bmatrix} , Curry = \\begin{bmatrix} 4\\\\1\\\\\\end {bmatrix} $$\n",
        "\n",
        "LaTeX\n",
        "$$Luna = \\begin{Bmatrix} c_1 \\cdot\\begin{bmatrix} 13\\\\-5\\\\\\end{bmatrix},\n",
        "c_2 \\cdot\\begin{bmatrix} 4\\\\1\\\\\\end{bmatrix}\\end{Bmatrix}$$"
      ],
      "metadata": {
        "id": "zYV1kPs3nw5P"
      }
    },
    {
      "cell_type": "code",
      "source": [
        "vecLebron = np.array([13,-5])\n",
        "vecCurry = np.array([4,1])\n",
        "\n",
        "NBA = np.arange(-12,12,1.8)\n",
        "\n",
        "c1, c2 = np.meshgrid(NBA,NBA)\n",
        "\n",
        "vecNBA = vecLebron + vecCurry\n",
        "spanRx = c1*vecLebron[0] + c2*vecCurry[0]\n",
        "spanRy = c1*vecLebron[1] + c2*vecCurry[1]\n",
        "plt.scatter(R*vecLebron[0],R*vecLebron[1])\n",
        "plt.scatter(R*vecCurry[0],R*vecCurry[1])\n",
        "\n",
        "##plt.scatter(NBA*vecLebron[0],NBA*vecLebron[1])\n",
        "##plt.scatter(NBA*vecCurry[0],NBA*vecCurry[1])\n",
        "plt.scatter(spanRx,spanRy, s=5, alpha=0.75)\n",
        "\n",
        "plt.axhline(y=0, color='blue')\n",
        "plt.axvline(x=0, color='magenta')\n",
        "plt.grid()\n",
        "plt.show()"
      ],
      "metadata": {
        "colab": {
          "base_uri": "https://localhost:8080/",
          "height": 265
        },
        "id": "pzHJJDGbnzjX",
        "outputId": "e61f47f3-3a3f-4451-f0e5-d81057c2155d"
      },
      "execution_count": null,
      "outputs": [
        {
          "output_type": "display_data",
          "data": {
            "text/plain": [
              "<Figure size 432x288 with 1 Axes>"
            ],
            "image/png": "[encoded data removed]"
          },
          "metadata": {
            "needs_background": "light"
          }
        }
      ]
    },
    {
      "cell_type": "markdown",
      "source": [
        "## Conclusion guide"
      ],
      "metadata": {
        "id": "vOIEBJttn0fg"
      }
    },
    {
      "cell_type": "markdown",
      "source": [
        "For your conclusion synthesize the concept and application of the laboratory. Briefly discuss what you have learn and achieved in this activity. At the end of your conclusion try to answer the question : \"How can you apply the concept of linear combination in engineering or real-life situations?\"."
      ],
      "metadata": {
        "id": "JCpvkoEtn1o4"
      }
    }
  ]
}